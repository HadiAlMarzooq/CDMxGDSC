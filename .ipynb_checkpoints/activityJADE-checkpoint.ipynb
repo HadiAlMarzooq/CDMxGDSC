{
 "cells": [
  {
   "cell_type": "markdown",
   "metadata": {},
   "source": [
    "# Your first python program !\n",
    "- try printing the following:\n",
    "    - your name \n",
    "    - your age\n",
    "    - a future goal maybe?\n",
    "    - the addition of (9231 + 34234)"
   ]
  },
  {
   "cell_type": "code",
   "execution_count": null,
   "metadata": {},
   "outputs": [],
   "source": [
    "# Preform the task down here :\n",
    "\n",
    "print(\"welcome to jade! :)\")"
   ]
  },
  {
   "cell_type": "code",
   "execution_count": null,
   "metadata": {},
   "outputs": [],
   "source": [
    "##\n",
    "#  Sample program that demonstrates the print function.\n",
    "#\n",
    "\n",
    "# Prints 7.\n",
    "print(3 + 4) \n",
    "      \n",
    "# Prints \"Hello World!\" in two lines.\n",
    "print(\"Hello\") \n",
    "print(\"World!\")\n",
    "\n",
    "# Prints multiple values with a single print function call.\n",
    "print(\"My favorite numbers are\", 3 + 4, \"and\", 3 + 10) \n",
    "\n",
    "# Prints three lines of text with a blank line.\n",
    "print(\"Goodbye\")   \n",
    "print()\n",
    "print(\"Hope to see you again\")"
   ]
  },
  {
   "cell_type": "code",
   "execution_count": null,
   "metadata": {},
   "outputs": [],
   "source": [
    "# Scratch cell to try random things:\n",
    "# try printing 1/0 ?"
   ]
  },
  {
   "cell_type": "markdown",
   "metadata": {},
   "source": [
    "# Variables \n",
    "- Create a variable named 'PI' and assign the value 3.14 to it.\n",
    "- try multiplying it with 2 and update its value."
   ]
  },
  {
   "cell_type": "code",
   "execution_count": null,
   "metadata": {},
   "outputs": [],
   "source": [
    "# Preform the task down here :\n"
   ]
  },
  {
   "cell_type": "markdown",
   "metadata": {},
   "source": [
    "- Remove Illegal characters to make the assignment work:"
   ]
  },
  {
   "cell_type": "code",
   "execution_count": null,
   "metadata": {},
   "outputs": [],
   "source": [
    "2my-first_name = \"John\""
   ]
  },
  {
   "cell_type": "markdown",
   "metadata": {},
   "source": [
    "# Arithmetic Expressions Examples\n",
    "<img src=\"images/ch02Fig10.png\" /><br />\n",
    "\n",
    "- try the following:\n",
    "  -  $\\sqrt{a^2+b^2}$ in python\n",
    "    - 1. with the math library\n",
    "    - 2. without the math library\n",
    "<br/>\n",
    "<img src=\"images/equation.png\" /><br />\n"
   ]
  },
  {
   "cell_type": "code",
   "execution_count": null,
   "metadata": {},
   "outputs": [],
   "source": [
    "#1 Hint: use 'from math import sqrt'"
   ]
  },
  {
   "cell_type": "code",
   "execution_count": null,
   "metadata": {},
   "outputs": [],
   "source": [
    "#2 "
   ]
  },
  {
   "cell_type": "markdown",
   "metadata": {},
   "source": [
    "### Activity يلا نجرب \n",
    "- The volume of a sphere is given by $$V=\\frac{4}{3}\\pi r^3$$\n",
    "If the radius is given by a variable **radius** that contains a floating-point value,\n",
    "write a Python expression for the volume.\n",
    "</br>\n",
    "<img src=\"images/equation2.png\" /><br />\n"
   ]
  },
  {
   "cell_type": "code",
   "execution_count": null,
   "metadata": {},
   "outputs": [],
   "source": [
    "id = 2019873410\n",
    "print(type(id))\n",
    "# Say we want to print the student's kfupm email, \n",
    "#KFUPM Email has this form : s[ID]@kfupm.edu.sa"
   ]
  },
  {
   "cell_type": "markdown",
   "metadata": {},
   "source": [
    "# Input and output\n",
    "- Write a program that takes an integer as an input then prints its sequare (x**2)"
   ]
  },
  {
   "cell_type": "code",
   "execution_count": 2,
   "metadata": {},
   "outputs": [],
   "source": [
    "# Preform the task down here :\n"
   ]
  },
  {
   "cell_type": "markdown",
   "metadata": {},
   "source": [
    "# If and elif statements practice:\n",
    "- Write a program that prints the month of a given number between [1-3], for example\n",
    "-  if the user enters 1, the program should print january.\n",
    "-  if the user enters a number outside the range you should print an error message.\n",
    "\n"
   ]
  },
  {
   "cell_type": "code",
   "execution_count": null,
   "metadata": {},
   "outputs": [],
   "source": []
  },
  {
   "cell_type": "markdown",
   "metadata": {},
   "source": [
    "# Loops: \n",
    "- Convert the following for loop to a while loop:"
   ]
  },
  {
   "cell_type": "code",
   "execution_count": null,
   "metadata": {},
   "outputs": [],
   "source": [
    "myName = ___\n",
    "for letter in myName :\n",
    "    print(letter)"
   ]
  },
  {
   "cell_type": "code",
   "execution_count": null,
   "metadata": {},
   "outputs": [],
   "source": [
    "# while loop:\n"
   ]
  },
  {
   "cell_type": "markdown",
   "metadata": {},
   "source": [
    "## Functions activity: \n",
    "- Define a function squareArea that computes the area of a square of a given side length. \n",
    "- $Square Area$ =  $SideLength^2$"
   ]
  },
  {
   "cell_type": "code",
   "execution_count": null,
   "metadata": {},
   "outputs": [],
   "source": [
    "# "
   ]
  }
 ],
 "metadata": {
  "interpreter": {
   "hash": "44a88bfe42ec3600e1f6c242a65b35f20fc59083e28ce84113f039569464a29c"
  },
  "kernelspec": {
   "display_name": "Python 3",
   "language": "python",
   "name": "python3"
  },
  "language_info": {
   "codemirror_mode": {
    "name": "ipython",
    "version": 3
   },
   "file_extension": ".py",
   "mimetype": "text/x-python",
   "name": "python",
   "nbconvert_exporter": "python",
   "pygments_lexer": "ipython3",
   "version": "3.8.3"
  },
  "toc": {
   "base_numbering": 1,
   "nav_menu": {},
   "number_sections": true,
   "sideBar": true,
   "skip_h1_title": false,
   "title_cell": "Table of Contents",
   "title_sidebar": "Contents",
   "toc_cell": false,
   "toc_position": {},
   "toc_section_display": true,
   "toc_window_display": false
  }
 },
 "nbformat": 4,
 "nbformat_minor": 2
}
