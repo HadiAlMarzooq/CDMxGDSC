{
 "cells": [
  {
   "cell_type": "markdown",
   "metadata": {
    "slideshow": {
     "slide_type": "slide"
    }
   },
   "source": [
    "<center> <h2> <b> Tech Week </b> </h2> </center>\n",
    "<blockquote> <i>“First, solve the problem. Then, write the code.” – John Johnson </i>\n",
    "</blockquote>\n",
    "\n",
    "- **Introduction To Python** <img src=\"images/Python.png\" width=\"200\" height=\"200\" />\n",
    "\n",
    "- Event Host: Hadi Al Marzooq\n",
    " - Who is Hadi? 😅\n",
    "     - Flutter App developer 🧑‍💻📱\n",
    "     - Web Developer 🧑‍💻🌐\n",
    "     - Data enthusiast ;) 📊\n",
    "     - Web Scraper using Python as a tool 🌐\n",
    "     - he wastes his time playing soccer ️⚽️🏃\n",
    "     \n",
    "###### Twitter: @red_hadi\n",
    "###### LinkedIn: Hadi Al Marzooq"
   ]
  },
  {
   "cell_type": "markdown",
   "metadata": {
    "slideshow": {
     "slide_type": "slide"
    }
   },
   "source": [
    "# The Python Programming Language\n",
    "- High-level programming languages\n",
    "- One very popular high level language is Python.\n",
    "    - Developed by Guido van Rossum in the early 1990s.\n",
    "    - Wanted a language suitable for writing smaller programs that may not run at optimum speed.\n",
    "        - As opposed to other languages like Java or C."
   ]
  },
  {
   "cell_type": "markdown",
   "metadata": {
    "slideshow": {
     "slide_type": "fragment"
    }
   },
   "source": [
    "# Why Python?\n",
    "- Python is incredibly easy to learn and use for beginners and newcomers in the industry.\n",
    "  - Simple syntax to understand \n",
    "  - Shorter code but not faster :("
   ]
  },
  {
   "cell_type": "markdown",
   "metadata": {
    "slideshow": {
     "slide_type": "slide"
    }
   },
   "source": [
    "# Becoming Familiar with Your Programming Environment\n",
    "- There are several ways of creating a computer program\n",
    "    - Using an Integrated Development Environment (IDE)\n",
    "    - Using a text editor \n",
    "- We will use the **Jupyter Notebook** \n",
    "- **Jupyter Notebook** is an open-source web application that allows you to create and share documents that contain live code, equations, visualizations and narrative text.\n",
    "- Slides of this session have been developed using Jupyter.\n",
    "- A big advantage is that we use the same platform to **present** and **run** Python code.\n",
    "- Let us look at our first Python program"
   ]
  },
  {
   "cell_type": "code",
   "execution_count": null,
   "metadata": {
    "slideshow": {
     "slide_type": "fragment"
    }
   },
   "outputs": [],
   "source": [
    "# My first Python program.\n",
    "print(\"Hello, World!\")\n",
    "print(\"Hello JadeCafe :)\")"
   ]
  },
  {
   "cell_type": "markdown",
   "metadata": {
    "slideshow": {
     "slide_type": "slide"
    }
   },
   "source": [
    "## How do Python programs run?\n",
    "1. The compiler reads your source code (that is, the Python instructions that you wrote) all at once.\n",
    "1. The compiler translates the instructions into **byte code**.\n",
    "    - **Byte codes** are very simple instructions understood by the **virtual machine** (a separate program that is similar to the CPU of a computer). \n",
    "2. The virtual machine executes your byte code."
   ]
  },
  {
   "cell_type": "markdown",
   "metadata": {
    "slideshow": {
     "slide_type": "fragment"
    }
   },
   "source": [
    "<img src=\"images/PythonInterpreter.png\" />"
   ]
  },
  {
   "cell_type": "markdown",
   "metadata": {
    "slideshow": {
     "slide_type": "slide"
    }
   },
   "source": [
    "# Analyzing Your First Program"
   ]
  },
  {
   "cell_type": "code",
   "execution_count": 1,
   "metadata": {
    "slideshow": {
     "slide_type": "fragment"
    }
   },
   "outputs": [
    {
     "name": "stdout",
     "output_type": "stream",
     "text": [
      "Hello, World!\n"
     ]
    }
   ],
   "source": [
    "# My first Python program.\n",
    "print(\"Hello, World!\")"
   ]
  },
  {
   "cell_type": "markdown",
   "metadata": {
    "slideshow": {
     "slide_type": "fragment"
    }
   },
   "source": [
    "- The first line is a comment.\n",
    "- Comments start with a # and are not considered statements (ignored by the interpreter)."
   ]
  },
  {
   "cell_type": "markdown",
   "metadata": {
    "slideshow": {
     "slide_type": "fragment"
    }
   },
   "source": [
    "- The second line displays a line of text, viz., **`Hello, World!`** using the **`print`** function.\n",
    "- A **function** is a *collection* of programming instructions that carry out a particular task.\n",
    "- **`\"Hello, World!\"`** is called a **string**."
   ]
  },
  {
   "cell_type": "markdown",
   "metadata": {
    "slideshow": {
     "slide_type": "fragment"
    }
   },
   "source": [
    "- To use, or call, a function in Python, you need to specify:\n",
    "- The name of the function you want to use (in this case, **`print`**).\n",
    "- Any values the function needs to carry out its task (in this case, **`\"Hello, World!\"`**).\n",
    "    - The technical term for such a value is an argument. "
   ]
  },
  {
   "cell_type": "markdown",
   "metadata": {
    "slideshow": {
     "slide_type": "slide"
    }
   },
   "source": [
    "- Syntax of the **`print`** statement <br/>\n",
    "<img src=\"images/printstatement.png\" />"
   ]
  },
  {
   "cell_type": "markdown",
   "metadata": {
    "slideshow": {
     "slide_type": "slide"
    }
   },
   "source": [
    "## More Examples of the Print Statement\n",
    "- Printing numerical values "
   ]
  },
  {
   "cell_type": "code",
   "execution_count": null,
   "metadata": {
    "slideshow": {
     "slide_type": "fragment"
    }
   },
   "outputs": [],
   "source": [
    "print(3 + 4)"
   ]
  },
  {
   "cell_type": "markdown",
   "metadata": {
    "slideshow": {
     "slide_type": "fragment"
    }
   },
   "source": [
    "- Passing multiple values to the function"
   ]
  },
  {
   "cell_type": "code",
   "execution_count": null,
   "metadata": {
    "slideshow": {
     "slide_type": "fragment"
    }
   },
   "outputs": [],
   "source": [
    "print(\"The answers of adding\", \"and multiplying are\", 6 + 7, 6 * 7, \", respectively\")"
   ]
  },
  {
   "cell_type": "markdown",
   "metadata": {
    "slideshow": {
     "slide_type": "fragment"
    }
   },
   "source": [
    "- Note that each value passed to the function is displayed, one after another, with a blank space after each value.\n",
    "- By default the print function starts a new line after its arguments are printed"
   ]
  },
  {
   "cell_type": "code",
   "execution_count": null,
   "metadata": {
    "slideshow": {
     "slide_type": "fragment"
    }
   },
   "outputs": [],
   "source": [
    "print(\"Hello\")\n",
    "print(\"World!\")"
   ]
  },
  {
   "cell_type": "markdown",
   "metadata": {
    "slideshow": {
     "slide_type": "slide"
    }
   },
   "source": [
    "## Our Second Program (printtest.py)"
   ]
  },
  {
   "cell_type": "code",
   "execution_count": null,
   "metadata": {},
   "outputs": [],
   "source": [
    "##\n",
    "#  Sample program that demonstrates the print function.\n",
    "#\n",
    "\n",
    "# Prints 7.\n",
    "print(3 + 4) \n",
    "      \n",
    "# Prints \"Hello World!\" in two lines.\n",
    "print(\"Hello\") \n",
    "print(\"World!\")\n",
    "\n",
    "# Prints multiple values with a single print function call.\n",
    "print(\"My favorite numbers are\", 3 + 4, \"and\", 3 + 10) \n",
    "\n",
    "# Prints three lines of text with a blank line.\n",
    "print(\"Goodbye\")   \n",
    "print()\n",
    "print(\"Hope to see you again\")"
   ]
  },
  {
   "cell_type": "markdown",
   "metadata": {
    "slideshow": {
     "slide_type": "slide"
    }
   },
   "source": [
    "# Errors\n",
    "- There are two Categories of Errors:\n",
    "    - Compile-time Errors (Syntax Errors) \n",
    "    - Run-time Errors (Logical Errors)"
   ]
  },
  {
   "cell_type": "markdown",
   "metadata": {},
   "source": [
    "## Compile-time Errors\n",
    "- Spelling, capitalization, punctuation\n",
    "- Ordering of statements, matching of parenthesis, quotes, ...etc."
   ]
  },
  {
   "cell_type": "code",
   "execution_count": null,
   "metadata": {},
   "outputs": [],
   "source": [
    "## Uncomment each statement.\n",
    "# print(\"Hello, World!)\n",
    "# print(\"Hello, World!\")\n",
    "# print(\"Hello World!')\n",
    "# print('Hello'"
   ]
  },
  {
   "cell_type": "markdown",
   "metadata": {},
   "source": [
    "- No executable program is created by the compiler\n",
    "- Correct first error listed, then compile again. \n",
    "- Repeat until all errors are fixed"
   ]
  },
  {
   "cell_type": "markdown",
   "metadata": {},
   "source": [
    "## Run-time Errors\n",
    "- The program runs, but produces unintended results\n",
    "- The program may **crash**"
   ]
  },
  {
   "cell_type": "code",
   "execution_count": null,
   "metadata": {},
   "outputs": [],
   "source": [
    "## Uncomment each statement.\n",
    "#print(\"Hello, Word!\")\n",
    "#print(1/0)"
   ]
  },
  {
   "cell_type": "markdown",
   "metadata": {},
   "source": [
    "- Note that run-time errors are more troublesome. They are the harder to find and fix because the interpreter cannot flag them for us. "
   ]
  },
  {
   "cell_type": "markdown",
   "metadata": {},
   "source": [
    "# Programming with numbers and Strings\n"
   ]
  },
  {
   "cell_type": "markdown",
   "metadata": {},
   "source": [
    "## Variables\n",
    "### Why do we need variables?\n",
    "- To carry out computation, we need to store values in order to use them later on.\n",
    "- These values are stored in variables.\n",
    "- Let us try to comprehend the use of variables by solving the following problem:"
   ]
  },
  {
   "cell_type": "markdown",
   "metadata": {},
   "source": [
    "# Defining Variables\n",
    "- A variable is a storage location in a computer program. \n",
    "- Each variable has a name and holds a value."
   ]
  },
  {
   "cell_type": "markdown",
   "metadata": {},
   "source": [
    "<img src=\"images/parking.png\" /><br />\n",
    "- Just as a parking space has an identifier **J053** and contents **car**"
   ]
  },
  {
   "cell_type": "markdown",
   "metadata": {},
   "source": [
    "## Soft Drinks: Which is more Economic?\n",
    "- Soft drinks are sold in cans and bottles. \n",
    "- A store offers a six-pack of 12-ounce [كرتون فيه 6 حبات وكل حبة 12 اونصة] cans for the same price as a two-liter bottle [غرشة 2 ليتر]. \n",
    "    - Note that 12 fluid ounces equal approximately 0.355 liters.\n",
    "# Defining Variables\n",
    "- A variable is a storage location in a computer program. \n",
    "- Each variable has a name and holds a value."
   ]
  },
  {
   "cell_type": "markdown",
   "metadata": {},
   "source": [
    "# Assignment Statements\n",
    "- An **assignment** statement is used to place a value into a variable"
   ]
  },
  {
   "cell_type": "code",
   "execution_count": null,
   "metadata": {},
   "outputs": [],
   "source": [
    "cansPerPack = 6\n",
    "print(cansPerPack)"
   ]
  },
  {
   "cell_type": "markdown",
   "metadata": {},
   "source": [
    "- How does the assignment statment work?\n",
    "    - The right hand side of the **=** sign is first evaluated (to the value 6).\n",
    "    - The value is assigned to the variable on the left hand side of the **=** sign (to the variable **cansPerPack**).\n",
    "    - Once a variable is defined, it can be used in other statements"
   ]
  },
  {
   "cell_type": "markdown",
   "metadata": {},
   "source": [
    "<img src=\"images/var1.png\" /><br />\n"
   ]
  },
  {
   "cell_type": "markdown",
   "metadata": {},
   "source": [
    "- If an existing variable is assigned a **new** value, that value replaces the previous contents of the variable. "
   ]
  },
  {
   "cell_type": "code",
   "execution_count": null,
   "metadata": {},
   "outputs": [],
   "source": [
    "cansPerPack = 6\n",
    "print(cansPerPack)\n",
    "\n",
    "cansPerPack = 8\n",
    "print(cansPerPack)"
   ]
  },
  {
   "cell_type": "markdown",
   "metadata": {},
   "source": [
    "<img src=\"images/var2.png\" /><br />\n"
   ]
  },
  {
   "cell_type": "markdown",
   "metadata": {},
   "source": [
    "# Assignment is not Equality in Algebra\n",
    "- <font color='red'>Is the statement</font>\n",
    "                cansPerPack = cansPerPack + 2\n",
    "  <font color='red'>correct in Algebra?</font>"
   ]
  },
  {
   "cell_type": "markdown",
   "metadata": {},
   "source": [
    "- <font color='red'>How about in Python?</font>"
   ]
  },
  {
   "cell_type": "code",
   "execution_count": null,
   "metadata": {},
   "outputs": [],
   "source": [
    "cansPerPack = 8\n",
    "cansPerPack = cansPerPack + 2\n",
    "print(cansPerPack)"
   ]
  },
  {
   "cell_type": "markdown",
   "metadata": {},
   "source": [
    "- So, how does the assignment <font color='blue'> cansPerPack = cansPerPack + 2</font> execute in python? \n",
    "- First, the right hand side is executed\n",
    "    - This is done by fetching the current value of the variable **cansPerPack**\n",
    "    - Then, carrying out the addition\n",
    "- Second, the value of the addition is stored in the variable **cansPerPack**"
   ]
  },
  {
   "cell_type": "markdown",
   "metadata": {},
   "source": [
    "<img src=\"images/var3.png\" /><br />\n"
   ]
  },
  {
   "cell_type": "markdown",
   "metadata": {},
   "source": [
    "# Number Types\n",
    "## Values and Types\n",
    "- <font color='blue'>**2**</font>, <font color='green'>**\"Hello World\"**</font> and <font color='purple'>**8.4**</font> are **values**\n",
    "- Each value belongs to a <font color='red'>**data type**</font>"
   ]
  },
  {
   "cell_type": "markdown",
   "metadata": {},
   "source": [
    ">    - <font color='blue'>**2**</font> is an **integer** <font color='red'>**int**</font>\n",
    ">    - <font color='green'>**\"Hello World\"**</font> is a **string** <font color='red'>**str**</font>\n",
    ">    - <font color='purple'>**8.4**</font> is a **float** <font color='red'>**float**</font>\n",
    ">    - <font color='blue'>**2**</font> and <font color='purple'>**8.4**</font> are called **number literals**."
   ]
  },
  {
   "cell_type": "markdown",
   "metadata": {},
   "source": [
    "## Why Data Types?\n",
    "- A **data type** of a value determines"
   ]
  },
  {
   "cell_type": "markdown",
   "metadata": {},
   "source": [
    "> - how the data type is represented in the computer, and\n",
    "> - what operations can be performed on that data."
   ]
  },
  {
   "cell_type": "markdown",
   "metadata": {},
   "source": [
    "# Two Categories of Data Types in Python\n",
    "- <font color='blue'>Primitive data type</font>\n",
    "    - A data type provided by the language itself (e.g. <font color='red'>**int**</font>)\n",
    "- <font color='blue'>User-defined data type</font>\n",
    "    - A data type defined by the programmer (**Objects and Classes**) , We wont cover this part in this session :( . "
   ]
  },
  {
   "cell_type": "markdown",
   "metadata": {},
   "source": [
    "# Number literals in Python\n",
    "> <img src=\"images/var4.png\" /><br />\n"
   ]
  },
  {
   "cell_type": "markdown",
   "metadata": {},
   "source": [
    "- The value determines the type of the variable.\n",
    "- For example, the following piece of code is correct, but not recommended"
   ]
  },
  {
   "cell_type": "code",
   "execution_count": null,
   "metadata": {},
   "outputs": [],
   "source": [
    "taxRate = 5\n",
    "print(taxRate)\n",
    "taxRate = 5.5\n",
    "print(taxRate)\n",
    "taxRate = \"five point five\"\n",
    "print(taxRate)"
   ]
  },
  {
   "cell_type": "markdown",
   "metadata": {},
   "source": [
    "- This is not a good idea, as it may lead to an error if you use the wrong operation on the variable"
   ]
  },
  {
   "cell_type": "code",
   "execution_count": null,
   "metadata": {},
   "outputs": [],
   "source": [
    "taxRate = taxRate + 10"
   ]
  },
  {
   "cell_type": "markdown",
   "metadata": {},
   "source": [
    "- Once a variable is initialized with a value of a type, keep storing values of the same type."
   ]
  },
  {
   "cell_type": "markdown",
   "metadata": {},
   "source": [
    "# Rules for Variable Names"
   ]
  },
  {
   "cell_type": "markdown",
   "metadata": {},
   "source": [
    "- Names must start with a letter or the underscore (\\_) character.\n",
    "- The remaining characters (if any) must be letters, digits or underscores. \n",
    "    - Symbols such as ? or % cannot be used in a variable name.\n",
    "    - Spaces cannot exist within a variable name.\n",
    "- Names are case sensitive.\n",
    "- Reserved words by python cannot be used as variable names. (e.g., <font color='blue'> **if**</font> and <font color='blue'>**class** </font>)  "
   ]
  },
  {
   "cell_type": "markdown",
   "metadata": {},
   "source": [
    "- Which of the following names are proper variable names?\n",
    ">    `canVolume1 , x , CanVolume , 6pack , can volume , class , ltr/fl.oz`"
   ]
  },
  {
   "cell_type": "markdown",
   "metadata": {},
   "source": [
    "- `canVolume1` is proper\n",
    "- `x` is proper\n",
    "- `CanVolume` is proper\n",
    "- `6pack` is not proper\n",
    "- `can volume` is not proper\n",
    "- `class` is not proper\n",
    "- `ltr/fl.oz` is not proper"
   ]
  },
  {
   "cell_type": "code",
   "execution_count": null,
   "metadata": {},
   "outputs": [],
   "source": [
    "# we can try them here: \n",
    "## Case sensitive.\n",
    "canVolume1 = 1\n",
    "canvolume1 = 2\n",
    "print(canVolume1)\n",
    "print(canvolume1)"
   ]
  },
  {
   "cell_type": "markdown",
   "metadata": {},
   "source": [
    "# Time to Solve the Problem at the Beginning of this Chapter"
   ]
  },
  {
   "cell_type": "markdown",
   "metadata": {},
   "source": [
    "## Soft Drinks: Which is more Economic?\n",
    "- Soft drinks are sold in cans and bottles. \n",
    "- A store offers a six-pack of 12-ounce [علبة فيها 6 حبات وكل حبة 12 اونصة] cans for the same price as a two-liter bottle [غرشة لترين]. \n",
    "- Which one should you buy?\n",
    "- 1 ounce is 0.355 liter"
   ]
  },
  {
   "cell_type": "markdown",
   "metadata": {},
   "source": [
    "# Solution Steps"
   ]
  },
  {
   "cell_type": "markdown",
   "metadata": {},
   "source": [
    "- Compute the **totalVolume** you get when you buy a six-pack\n",
    "    - Define **CAN_VOLUME** and the number of **cansPerPack**\n",
    "    - `totalVolume = cansPerPack * CAN_VOLUME`\n",
    "    - print the **totalVolume**"
   ]
  },
  {
   "cell_type": "markdown",
   "metadata": {},
   "source": [
    "- Now you can compare the **totalVolume** to the value **2.0** and determine which one to buy"
   ]
  },
  {
   "cell_type": "code",
   "execution_count": null,
   "metadata": {},
   "outputs": [],
   "source": [
    "# Our solution here:"
   ]
  },
  {
   "cell_type": "code",
   "execution_count": null,
   "metadata": {},
   "outputs": [],
   "source": [
    "##\n",
    "#  This program computes the volume (in liters) of a six-pack of soda\n",
    "#  cans and the total volume of a six-pack and a two-liter bottle.\n",
    "#\n",
    "\n",
    "# Liters in a 12-ounce can and a two-liter bottle.\n",
    "CAN_VOLUME = 0.355\n",
    "BOTTLE_VOLUME = 2\n",
    "\n",
    "# Number of cans per pack.\n",
    "cansPerPack = 6\n",
    "\n",
    "# Calculate total volume in the cans.\n",
    "totalVolume = cansPerPack * CAN_VOLUME\n",
    "print(\"A six-pack of 12-ounce cans contains\", totalVolume, \"liters.\")\n",
    "\n",
    "# Calculate total volume in the cans and a two-liter bottle.\n",
    "totalVolume = totalVolume + BOTTLE_VOLUME\n",
    "print(\"A six-pack and a two-liter bottle contain\", totalVolume, \"liters.\")"
   ]
  },
  {
   "cell_type": "markdown",
   "metadata": {},
   "source": [
    "# 2.2 Arithmetic"
   ]
  },
  {
   "cell_type": "markdown",
   "metadata": {},
   "source": [
    "## Basic Arithmetic Operations\n",
    "- Python supports addition `+`, subtraction `-`, multiplication `*` and division `/` \n",
    "- **`+ - * /`** are called **operators**\n",
    "- For example, the mathematical formula $\\frac{a+b}{2}$ is written in python as `(a + b) / 2`\n",
    "    - Note that the parentheses are used to determine in which order the parts of the expression are computed.\n",
    "    - For example, which mathematical formula is `a + b / 2`?\n",
    "- Python uses the exponential operator $**$ to denote the power operation.\n",
    "    - For example, $a^2$ is `a ** 2`\n"
   ]
  },
  {
   "cell_type": "markdown",
   "metadata": {},
   "source": [
    "# Precedence of Arithmetic Operators\n",
    "- Python uses the precedence rules for algebraic notation"
   ]
  },
  {
   "cell_type": "markdown",
   "metadata": {},
   "source": [
    "| Precedence | Operator(s)| Description |\n",
    "| :---: | :---: | :---|\n",
    "|1 | $( )$ | Parentheses الأقواس|\n",
    "|2 | $**$ | Power القوى|\n",
    "|3 | $* , /$ | Multiplication and Division القسمة والضرب|\n",
    "|4 | $+ , -$ | Addition and Subtraction الجمع والطرح|"
   ]
  },
  {
   "cell_type": "markdown",
   "metadata": {},
   "source": [
    "# Order of Evaluation of Arithmetic Operators\n",
    "- Addition, subtraction, multiplication and division are left associative, i.e. they are evaluated from left to right.\n",
    "    - For example, `10 + 2 + 3` is evaluated as $(10+2)+3 = 15$ \n",
    "- The power operation is right associative, i.e. it is evaluated from right to left.\n",
    "    - For example, `10 ** 2 ** 3` is evaluated as $10^{2^3}$ which is the same as $10^{8} = 100000000$"
   ]
  },
  {
   "cell_type": "markdown",
   "metadata": {},
   "source": [
    "# Example\n",
    "- Consider the mathematical expression\n",
    "```Python\n",
    "b * (1 + r / 100) ** n\n",
    "```\n",
    "Can you guys try to convert it algebraically?\n",
    "- It is evaluated as follows"
   ]
  },
  {
   "cell_type": "markdown",
   "metadata": {},
   "source": [
    "- The expression between the parentheses is first considered, viz., `(1 + r / 100)`."
   ]
  },
  {
   "cell_type": "markdown",
   "metadata": {},
   "source": [
    "- Since division is higher than addition, division is evaluated: $\\ \\ \\ \\ \\frac{r}{100}$."
   ]
  },
  {
   "cell_type": "markdown",
   "metadata": {},
   "source": [
    "- Now, addition is evaluated and hence we get the expression: $\\ \\ \\ \\ 1 {\\bf +} \\frac{r}{100}$."
   ]
  },
  {
   "cell_type": "markdown",
   "metadata": {},
   "source": [
    "- Since we have multiplication and exponentiation, we carry out the exponentiation and the result becomes $(1 + \\frac{r}{100})^{\\bf n}$"
   ]
  },
  {
   "cell_type": "markdown",
   "metadata": {},
   "source": [
    "- Finally, we carry out the multiplication to get the Mathematical Expression: $\\ \\ \\ b {\\bf \\ \\times \\ } (1 + \\frac{r}{100})^n$"
   ]
  },
  {
   "cell_type": "markdown",
   "metadata": {},
   "source": [
    "# Floor Division and Remainder\n",
    "- Division of two integers results in a floating-point value\n",
    "    - `7 / 4` yields `1.75`\n",
    "- The floor division operator `//` when applied on positive integers computes the quotient and discards the fractional part.\n",
    "    - `7 // 4` yields 1\n",
    "- The **modulus** operator `%` can be used to get the remainder of the floor division.\n",
    "    - `7 % 4` yields 3, the remainder of the floor division of 7 by 4.\n",
    "    - Some also call it **modulo** or **mod**"
   ]
  },
  {
   "cell_type": "code",
   "execution_count": null,
   "metadata": {},
   "outputs": [],
   "source": [
    "# print(7/4)\n",
    "# print(7//4)\n",
    "# print(7%4)"
   ]
  },
  {
   "cell_type": "markdown",
   "metadata": {},
   "source": [
    "# Calling Functions\n",
    "- We have been using the print function to display information, but there are many other functions available in Python.\n",
    "- Most functions **return** a value. \n",
    "    - i.e., when the function completes its task, it passes a value back to the point where the function was called.\n",
    "    - For example, the call `abs(-123)` returns the value 123.\n",
    "- The value returned by a function can be stored in a variable.\n",
    "    - `distance = abs(x)`\n",
    "    - Note that `x` is called the **argument** of the **`abs`** function. \n",
    "- It can also be used anywhere that a value of the same type can be used\n",
    "    - `print(\"The distance from the origin is \", abs(x))`"
   ]
  },
  {
   "cell_type": "code",
   "execution_count": null,
   "metadata": {},
   "outputs": [],
   "source": [
    "distance = ______  # 2\n",
    "print(distance)\n",
    "print(\"The distance from the origin is \", abs(x))\n"
   ]
  },
  {
   "cell_type": "markdown",
   "metadata": {},
   "source": [
    "# Arguments of a Function"
   ]
  },
  {
   "cell_type": "markdown",
   "metadata": {},
   "source": [
    "- When calling a function, you must provide the correct number of arguments.\n",
    "    - `abs(-10, 2)` or `abs()` will generate an error.\n",
    "    - Hence, the **`abs`** function requires exactly one argument."
   ]
  },
  {
   "cell_type": "code",
   "execution_count": null,
   "metadata": {},
   "outputs": [],
   "source": [
    "abs(-10, 2)"
   ]
  },
  {
   "cell_type": "markdown",
   "metadata": {},
   "source": [
    "- Some functions take an arbitrary number of arguments\n",
    "    - For example, the **`max`** and **`min`** functions.\n",
    "        - `min(7.25, 10.95, 5.95, 6.05, 8)` returns the minimum of the function's arguments; in this case the number `5.95`"
   ]
  },
  {
   "cell_type": "code",
   "execution_count": null,
   "metadata": {},
   "outputs": [],
   "source": [
    "min(7.25, 10.95, 5.95, 6.05, 8)"
   ]
  },
  {
   "cell_type": "markdown",
   "metadata": {},
   "source": [
    "# Calling Functions\n",
    "> <img src=\"images/ch02Fig09.png\" /><br />\n"
   ]
  },
  {
   "cell_type": "markdown",
   "metadata": {},
   "source": [
    "# Libraries\n",
    "- A **library** is a collection of code that has been written and translated by someone else, ready for you to use in your program.\n",
    "    - A **standard library** is a library that is considered part of the language and must be included with any Python system."
   ]
  },
  {
   "cell_type": "markdown",
   "metadata": {},
   "source": [
    "- Python’s standard library is organized into modules. \n",
    "    - Related functions and data types are grouped into the same module."
   ]
  },
  {
   "cell_type": "markdown",
   "metadata": {},
   "source": [
    "# Mathematical Functions\n",
    "- Python’s **math** module includes a number of mathematical functions.\n",
    "- You must **import** it before you can use any of its functions\n",
    "    - Note that you can use the **`print`** function without the use of **import**, since it is one of the **built-in** functions (part of the Python language and can be used directly in your programs)."
   ]
  },
  {
   "cell_type": "code",
   "execution_count": null,
   "metadata": {},
   "outputs": [],
   "source": [
    "from math import sqrt\n",
    "y = sqrt(25)\n",
    "print(\"y = \", y)"
   ]
  },
  {
   "cell_type": "markdown",
   "metadata": {},
   "source": [
    "<img src=\"images/ch02Fig10.png\" /><br />\n"
   ]
  },
  {
   "cell_type": "markdown",
   "metadata": {},
   "source": [
    "Can you try $\\sqrt{a^2+b^2}$ in python? "
   ]
  },
  {
   "cell_type": "code",
   "execution_count": null,
   "metadata": {},
   "outputs": [],
   "source": [
    "# \n"
   ]
  },
  {
   "cell_type": "markdown",
   "metadata": {},
   "source": [
    "- To import more than one function from **math**, use **`from math import *`** "
   ]
  },
  {
   "cell_type": "markdown",
   "metadata": {},
   "source": [
    "# Arithmetic Expressions Examples\n",
    "> <img src=\"images/ch02Fig11.png\" /><br />\n"
   ]
  },
  {
   "cell_type": "markdown",
   "metadata": {},
   "source": [
    "### Activity يلا نجرب \n",
    "- The volume of a sphere is given by $$V=\\frac{4}{3}\\pi r^3$$\n",
    "If the radius is given by a variable **radius** that contains a floating-point value,\n",
    "write a Python expression for the volume."
   ]
  },
  {
   "cell_type": "code",
   "execution_count": null,
   "metadata": {},
   "outputs": [],
   "source": [
    "# Volume Expression\n",
    "radius = 2.4"
   ]
  },
  {
   "cell_type": "markdown",
   "metadata": {},
   "source": [
    "# 2.4 Strings\n",
    "- A **string** is a sequence of characters\n",
    "    - **Characters** include letters, numbers/digits, punctuation, spaces, special symbols and so on.\n",
    "- A **string literal** denotes a particular string (e.g. \"Hello\")\n",
    "    - Just as a number literal (e.g. `34`) denotes a particular number.\n",
    "    - String literals are specified by enclosing a sequence of characters within a matching pair of either single or double quotes."
   ]
  },
  {
   "cell_type": "code",
   "execution_count": null,
   "metadata": {},
   "outputs": [],
   "source": [
    "print(\"This is a string. \", 'So is this.')"
   ]
  },
  {
   "cell_type": "markdown",
   "metadata": {},
   "source": [
    "- How can I form the strings **`I'm a student`** or **`He said: \"You did it!\"`**?"
   ]
  },
  {
   "cell_type": "code",
   "execution_count": null,
   "metadata": {},
   "outputs": [],
   "source": [
    "print(\"I'm a student\", 'He said: \"You did it!\"')"
   ]
  },
  {
   "cell_type": "markdown",
   "metadata": {},
   "source": [
    "- The number of characters in a string is called the **length** of the string. \n",
    "    - For example, \"Harry\" is of length \\_\\_\\_\\_\\_ and \"World\" is of length \\_\\_\\_\\_\\_\\_\n",
    "    - An **empty** string is a string with no characters. It is of length zero and is written as `\"\"` or `''`"
   ]
  },
  {
   "cell_type": "markdown",
   "metadata": {},
   "source": [
    "- Python's **`len`** function returns the length of the argument string.  "
   ]
  },
  {
   "cell_type": "code",
   "execution_count": null,
   "metadata": {},
   "outputs": [],
   "source": [
    "length = len(\"World!\")\n",
    "print(length)"
   ]
  },
  {
   "cell_type": "markdown",
   "metadata": {},
   "source": [
    "\n",
    "# String Concatenation\n",
    "- Given two strings such as **`Ahmad`** and **`Saleem`**, you can **concatenate** them to one long string."
   ]
  },
  {
   "cell_type": "code",
   "execution_count": null,
   "metadata": {},
   "outputs": [],
   "source": [
    "firstName = \"Ahmad\"\n",
    "secondName = \"Saleem\"\n",
    "name = firstName + secondName\n",
    "print (name)"
   ]
  },
  {
   "cell_type": "markdown",
   "metadata": {},
   "source": [
    "- Note that if one of the operands of the **`+`** operator is a string, then all of them should be strings, otherwise a syntax error will occur."
   ]
  },
  {
   "cell_type": "code",
   "execution_count": null,
   "metadata": {},
   "outputs": [],
   "source": [
    "# String + Error:\n"
   ]
  },
  {
   "cell_type": "markdown",
   "metadata": {},
   "source": [
    "# String Repetition\n",
    "- Given a string such as **`-`**, you can repeat it **n** times, where **n** is an integer using the string repetition operator **`*`**"
   ]
  },
  {
   "cell_type": "code",
   "execution_count": null,
   "metadata": {},
   "outputs": [],
   "source": [
    "dashes = \"-\" * 50\n",
    "print(dashes)\n"
   ]
  },
  {
   "cell_type": "markdown",
   "metadata": {},
   "source": [
    "# Converting between Numbers and Strings\n",
    "- Since you cannot concatenate a string and integer, Python provides the **`str`** function to convert an integer to a string. "
   ]
  },
  {
   "cell_type": "code",
   "execution_count": null,
   "metadata": {},
   "outputs": [],
   "source": [
    "id = 2019873410\n",
    "print(type(id))\n",
    "# Say we want to print the student's kfupm email, \n",
    "#KFUPM Email has this form : s[ID]@kfupm.edu.sa\n",
    "\n"
   ]
  },
  {
   "cell_type": "markdown",
   "metadata": {},
   "source": [
    "- Conversely, you can turn a string representing a number into its corresponding numerical value using the **`int`** and **`float`** functions."
   ]
  },
  {
   "cell_type": "code",
   "execution_count": null,
   "metadata": {},
   "outputs": [],
   "source": [
    "id = int(\"1729\")\n",
    "price = float(\"17.29\")\n",
    "print(f'price type is {type(price)}, and id type is {type(id)}')\n",
    "print(\"id is\", id, \" and price is\", price)"
   ]
  },
  {
   "cell_type": "markdown",
   "metadata": {},
   "source": [
    "\n",
    "> <img src=\"images/ch02Fig13.png\" /><br />\n"
   ]
  },
  {
   "cell_type": "markdown",
   "metadata": {},
   "source": [
    "- The index value must be within the valid range of character positions\n",
    "    - 0 .. `len(name)-1`\n",
    "- otherwise, an \"index out of range\" exception will be generated at run time."
   ]
  },
  {
   "cell_type": "markdown",
   "metadata": {},
   "source": [
    "### Session Activity\n",
    "- What are the results of the following statements"
   ]
  },
  {
   "cell_type": "code",
   "execution_count": null,
   "metadata": {},
   "outputs": [],
   "source": [
    "string = \"Py\"\n",
    "string = string + \"thon\"\n",
    "#print(string)"
   ]
  },
  {
   "cell_type": "markdown",
   "metadata": {
    "slideshow": {
     "slide_type": "fragment"
    }
   },
   "source": [
    "print (\"Please\" +\n",
    "\" enter your name: \")"
   ]
  },
  {
   "cell_type": "code",
   "execution_count": null,
   "metadata": {},
   "outputs": [],
   "source": [
    "print()"
   ]
  },
  {
   "cell_type": "markdown",
   "metadata": {},
   "source": [
    "- What is the result of the following statements"
   ]
  },
  {
   "cell_type": "code",
   "execution_count": null,
   "metadata": {},
   "outputs": [],
   "source": [
    "greeting = \"H & S\"\n",
    "n = len(greeting)\n",
    "print('n= ', n)"
   ]
  },
  {
   "cell_type": "code",
   "execution_count": null,
   "metadata": {},
   "outputs": [],
   "source": [
    "string = \"Harry\"\n",
    "n = len(string)\n",
    "mystery = string[0] + string[n - 1]\n",
    "# print(mystery)"
   ]
  },
  {
   "cell_type": "markdown",
   "metadata": {},
   "source": [
    "# 2.5 Input and Output\n",
    "- Asking the user to provide input values makes programs more flexible.\n",
    "    - As opposed to having fixed values."
   ]
  },
  {
   "cell_type": "markdown",
   "metadata": {},
   "source": [
    "- For example, You will have to change the values of `first` and `second` in the program below every time you would like to use different values."
   ]
  },
  {
   "cell_type": "code",
   "execution_count": null,
   "metadata": {},
   "outputs": [],
   "source": [
    "##\n",
    "#  This program prints a pair of initials.\n",
    "#\n",
    "\n",
    "# Set the names of the couple.\n",
    "first = \"Rodolfo\"\n",
    "second = \"Sally\"\n",
    "\n",
    "# Compute and display the initials.\n",
    "initials = first[0] + \"&\" + second[0]\n",
    "print(initials)"
   ]
  },
  {
   "cell_type": "markdown",
   "metadata": {},
   "source": [
    "- When a program asks for user input, it should first print a message (called a **prompt**) that tells the user which input is expected.\n",
    "- In Python, displaying a prompt and reading the keyboard input is combined in one operation."
   ]
  },
  {
   "cell_type": "code",
   "execution_count": null,
   "metadata": {},
   "outputs": [],
   "source": [
    "##\n",
    "#  This program obtains two names from the user and prints a pair of initials.\n",
    "#\n",
    "\n",
    "# Obtain the two names from the user.\n",
    "first = input(\"Enter your first name: \")\n",
    "second = input(\"Enter your significant other's first name: \")\n",
    "\n",
    "# Compute and display the initials.\n",
    "initials = first[0] + \"&\" + second[0]\n",
    "print(initials)"
   ]
  },
  {
   "cell_type": "markdown",
   "metadata": {},
   "source": [
    "- Note that the output of the **`input`** function is always a **string**."
   ]
  },
  {
   "cell_type": "markdown",
   "metadata": {},
   "source": [
    "- Note that the output of the **`input`** function is always a **string**.\n",
    "# Reading Numerical Input\n",
    "- What if we need to read a numerical input?"
   ]
  },
  {
   "cell_type": "markdown",
   "metadata": {},
   "source": [
    "- Use the string conversion functions **int** and **float** on the output string"
   ]
  },
  {
   "cell_type": "code",
   "execution_count": null,
   "metadata": {},
   "outputs": [],
   "source": [
    "userInput = input(\"Please enter the number of bottles: \")\n",
    "numberOfBottles = int(userInput)\n",
    "bottleVolume = float(input(\"Enter the volume of each bottle: \")) # preferred style\n",
    "print(\"The number of bottles = \", numberOfBottles, \" and the bottle volume = \", bottleVolume)"
   ]
  },
  {
   "cell_type": "markdown",
   "metadata": {},
   "source": [
    "# Formatted Output  - [Side learning activity]\n",
    "## Formatting Floating Point Values\n",
    "- When you print the result of a computation, you often want to control its appearance. "
   ]
  },
  {
   "cell_type": "markdown",
   "metadata": {},
   "source": [
    "| Instead of | | Would Like to Print|\n",
    "|:---|:---| :---|\n",
    "|  Price per liter: 1.215962441314554 | | Price per liter: 1.22 |\n"
   ]
  },
  {
   "cell_type": "markdown",
   "metadata": {},
   "source": [
    "- We can do that through the **string format operator %**"
   ]
  },
  {
   "cell_type": "markdown",
   "metadata": {},
   "source": [
    "- The following command displays the price with two digits after the decimal point:"
   ]
  },
  {
   "cell_type": "code",
   "execution_count": null,
   "metadata": {},
   "outputs": [],
   "source": [
    "price = 1.215962441314554\n",
    "print(\"%.2f\" % price)"
   ]
  },
  {
   "cell_type": "markdown",
   "metadata": {},
   "source": [
    "- You can also specify a field width (the total number of characters, including spaces)"
   ]
  },
  {
   "cell_type": "code",
   "execution_count": null,
   "metadata": {},
   "outputs": [],
   "source": [
    "price = 1.215962441314554\n",
    "print(\"%10.2f\" % price)"
   ]
  },
  {
   "cell_type": "markdown",
   "metadata": {},
   "source": [
    "\n",
    "> <img src=\"images/ch02Fig14.png\" /><br />\n"
   ]
  },
  {
   "cell_type": "markdown",
   "metadata": {},
   "source": [
    "- **`%10.2f`** is called a **format specifier**.\n",
    "- See what happens when you play with the values of the **format specifier**."
   ]
  },
  {
   "cell_type": "markdown",
   "metadata": {},
   "source": [
    "## Formatting Integer and String Values"
   ]
  },
  {
   "cell_type": "markdown",
   "metadata": {},
   "source": [
    "- Use **%d** for integer values"
   ]
  },
  {
   "cell_type": "code",
   "execution_count": null,
   "metadata": {},
   "outputs": [],
   "source": [
    "numberOfBottles = 106\n",
    "print(\"The Number of Bottles is %d \" % numberOfBottles)\n"
   ]
  },
  {
   "cell_type": "markdown",
   "metadata": {},
   "source": [
    "- Use **%s** for string values"
   ]
  },
  {
   "cell_type": "code",
   "execution_count": null,
   "metadata": {},
   "outputs": [],
   "source": [
    "title2=\"Price:\"\n",
    "print(\"%-10s\" % title2)"
   ]
  },
  {
   "cell_type": "markdown",
   "metadata": {},
   "source": [
    "# Multiple Format Specifiers\n",
    "- One can have more than one format specifier in the **format string**\n",
    "- In this case, the variables to the right of the string format **operator %** need to be included between parentheses and separated by commas. "
   ]
  },
  {
   "cell_type": "code",
   "execution_count": null,
   "metadata": {},
   "outputs": [],
   "source": [
    "quantity = 203\n",
    "price = 183.4\n",
    "title1 = \"Quantity:\"\n",
    "title2 = \"Price:\"\n",
    "print(\"%10s %10d\" % (title1, quantity))\n",
    "print(\"%10s %10.2f\" % (title2, price))\n"
   ]
  },
  {
   "cell_type": "code",
   "execution_count": null,
   "metadata": {},
   "outputs": [],
   "source": [
    "# - You can play with different values and see what happens to the output\n",
    "print(\"%-10s %10d\" % (title1, quantity))\n",
    "print(\"%-10s %10.2f\" % (title2, price))     # Strings are left aligned, numbers are right aligned\n",
    "\n",
    "print(\"%10s %-10d\" % (title1, quantity))    # Strings are right aligned, numbers are left aligned\n",
    "print(\"%10s %-10.2f\" % (title2, price))\n",
    "\n",
    "print(\"%-10s %-10d\" % (title1, quantity))   # Strings and numbers are left aligned\n",
    "print(\"%-10s %-10.2f\" % (title2, price))\n"
   ]
  },
  {
   "cell_type": "markdown",
   "metadata": {},
   "source": [
    "\n",
    "> <img src=\"images/ch02Fig15.png\" /><br />\n"
   ]
  },
  {
   "cell_type": "code",
   "execution_count": null,
   "metadata": {},
   "outputs": [],
   "source": [
    "quantity = 24\n",
    "total = 17.29\n",
    "print(\"Quantity: %d Total: %10.2f\" % (quantity, total))"
   ]
  },
  {
   "cell_type": "markdown",
   "metadata": {},
   "source": [
    "\n",
    "> <img src=\"images/ch02Fig16.png\" /><br />\n"
   ]
  },
  {
   "cell_type": "markdown",
   "metadata": {},
   "source": [
    "### Student Activity\n",
    "\n",
    "> <img src=\"images/ch02Fig17.png\" /><br />\n"
   ]
  },
  {
   "cell_type": "code",
   "execution_count": null,
   "metadata": {},
   "outputs": [],
   "source": [
    "# To Print Bottles and Cans \n",
    "bottles = 8\n",
    "cans = 24\n",
    "## Insert your solution here"
   ]
  },
  {
   "cell_type": "code",
   "execution_count": null,
   "metadata": {},
   "outputs": [],
   "source": [
    "# # Different solutions:\n",
    "# print(\"Bottles: %8d\" % bottles)\n",
    "# print(\"Cans:    %8d\" % cans)\n",
    "    \n",
    "# print(\"Bottles: %8d\" % bottles)\n",
    "# print(\"Cans: %11d\" % cans)\n",
    "    \n",
    "print(\"%-8s %8d\" % (\"Bottles:\", bottles))\n",
    "print(\"%-8s %8d\" % (\"Cans:\", cans))"
   ]
  },
  {
   "cell_type": "markdown",
   "metadata": {},
   "source": [
    "# The if Statement\n",
    "- A computer program often needs to make decisions based on input, or circumstances. \n",
    "- The <font color='blue'>**if statement**</font> allows a program to carry out different actions depending on the nature of the data to be processed. "
   ]
  },
  {
   "cell_type": "markdown",
   "metadata": {},
   "source": [
    "# Relational Operators:\n",
    "\n",
    "> <img src=\"images/relational.png\" /><br />\n",
    "\n"
   ]
  },
  {
   "cell_type": "markdown",
   "metadata": {},
   "source": [
    "\n",
    "> <img src=\"images/richter.png\" /><br />\n"
   ]
  },
  {
   "cell_type": "markdown",
   "metadata": {},
   "source": [
    "- You could use multiple <font color='blue'>**if statements**</font> to implement multiple alternatives, like this: "
   ]
  },
  {
   "cell_type": "code",
   "execution_count": null,
   "metadata": {},
   "outputs": [],
   "source": [
    "## To be implemented:\n",
    "richter = 8 \n"
   ]
  },
  {
   "cell_type": "code",
   "execution_count": null,
   "metadata": {},
   "outputs": [],
   "source": [
    "richter = 8.0\n",
    "if richter >= 8.0:\n",
    "    print(\"Most structures fall\")\n",
    "else:\n",
    "    if richter >= 7.0:\n",
    "        print(\"Many building destroyed\")\n",
    "    else:\n",
    "        if richter >= 6.0:\n",
    "            print(\"Many buildings considerably damaged, some collapse\")\n",
    "        else:\n",
    "            if richter >= 4.5:\n",
    "                print(\"Damage to poorly constructured buildings\")\n",
    "            else:\n",
    "                print(\"No destruction of buildings\")"
   ]
  },
  {
   "cell_type": "markdown",
   "metadata": {},
   "source": [
    "- but this becomes difficult to read and, as the number of branches increases, the code begins to shift further and further to the right due to the required indentation."
   ]
  },
  {
   "cell_type": "markdown",
   "metadata": {},
   "source": [
    "- Python provides the special construct <font color='blue'>**elif**</font> for creating <font color='blue'>**if**</font> statements containing multiple branches. \n",
    "- Using the <font color='blue'>**elif**</font> statement, the code segment can be rewritten as:"
   ]
  },
  {
   "cell_type": "code",
   "execution_count": null,
   "metadata": {},
   "outputs": [],
   "source": [
    "richter = 8.0\n",
    "if richter >= 8.0:\n",
    "    print(\"Most strcutures fail\")\n",
    "elif richter >= 7.0:\n",
    "    print(\"Many buildings destroyed\")\n",
    "elif richter >= 6.0:\n",
    "    print(\"Many buildings considerably damaged, some collapse\")\n",
    "elif richter >= 4.5:\n",
    "    print(\"Damage to poorly constructed buildings\")\n",
    "else:\n",
    "    print(\"No destruction of buildings\")"
   ]
  },
  {
   "cell_type": "markdown",
   "metadata": {},
   "source": [
    "- As soon as one of the four tests succeeds, the effect is displayed, and no further tests are attempted. \n",
    "- If none of the four cases applies, the <font color='blue'>**final else clause**</font> applies, and a default message is printed."
   ]
  },
  {
   "cell_type": "markdown",
   "metadata": {},
   "source": [
    "## Session Activity"
   ]
  },
  {
   "cell_type": "code",
   "execution_count": null,
   "metadata": {},
   "outputs": [],
   "source": [
    "print(3 <= 4)"
   ]
  },
  {
   "cell_type": "code",
   "execution_count": null,
   "metadata": {},
   "outputs": [],
   "source": [
    "print(3 =< 4)"
   ]
  },
  {
   "cell_type": "code",
   "execution_count": null,
   "metadata": {},
   "outputs": [],
   "source": [
    "print(3 > 4)"
   ]
  },
  {
   "cell_type": "code",
   "execution_count": null,
   "metadata": {},
   "outputs": [],
   "source": [
    "print(4 < 4)"
   ]
  },
  {
   "cell_type": "code",
   "execution_count": null,
   "metadata": {},
   "outputs": [],
   "source": [
    "print(4 <= 4)"
   ]
  },
  {
   "cell_type": "code",
   "execution_count": null,
   "metadata": {},
   "outputs": [],
   "source": [
    "print(3!=5-3)"
   ]
  },
  {
   "cell_type": "code",
   "execution_count": null,
   "metadata": {},
   "outputs": [],
   "source": [
    "print(3=6/2)"
   ]
  },
  {
   "cell_type": "code",
   "execution_count": null,
   "metadata": {},
   "outputs": [],
   "source": [
    "print(1.0 / 3.0 == 0.333333333)"
   ]
  },
  {
   "cell_type": "code",
   "execution_count": null,
   "metadata": {},
   "outputs": [],
   "source": [
    "print(3<=4<5)"
   ]
  },
  {
   "cell_type": "code",
   "execution_count": null,
   "metadata": {},
   "outputs": [],
   "source": [
    "s1 = \"This is a long string.\"\n",
    "s2 = \"This is a l0ng string.\"\n",
    "if s1==s2:\n",
    "    comparison = \"identical\"\n",
    "else:\n",
    "    comparison = \"not identical\"\n",
    "print (\"The string s1 and s2 are\",comparison)"
   ]
  },
  {
   "cell_type": "markdown",
   "metadata": {},
   "source": [
    "# Logical `and` and `or` Operators\n",
    "- Suppose you write a program that processes temperature values, and you want\n",
    "to test whether a given temperature corresponds to liquid water. \n",
    "    - (At sea level, water freezes at 0 degrees Celsius and boils at 100 degrees.) \n",
    "    - Water is liquid if the temperature is greater than zero and less than 100:"
   ]
  },
  {
   "cell_type": "code",
   "execution_count": null,
   "metadata": {},
   "outputs": [],
   "source": [
    "temp = 10\n",
    "if temp > 0 and temp < 100:\n",
    "    print(\"Liquid\")"
   ]
  },
  {
   "cell_type": "markdown",
   "metadata": {},
   "source": [
    "\n",
    "> <img src=\"images/truthtable.png\" /><br />\n"
   ]
  },
  {
   "cell_type": "markdown",
   "metadata": {},
   "source": [
    "# Analyzing Strings\n",
    "- Sometimes it is necessary to determine if a string contains a given **substring**.\n",
    "    - i.e., one string contains an exact match of another string. \n",
    "- for example, given the code segment,"
   ]
  },
  {
   "cell_type": "code",
   "execution_count": null,
   "metadata": {},
   "outputs": [],
   "source": [
    "name = \"John Wayne\"\n",
    "print(\"Way\" in name)"
   ]
  },
  {
   "cell_type": "code",
   "execution_count": null,
   "metadata": {},
   "outputs": [],
   "source": [
    "name = \"John Johnson\"\n",
    "print(\"john\" in \"John Johnson\")"
   ]
  },
  {
   "cell_type": "markdown",
   "metadata": {},
   "source": [
    "## Methods for Testing String Characteristics\n",
    "\n",
    "> <img src=\"images/StringMethods.png\" /><br />\n"
   ]
  },
  {
   "cell_type": "code",
   "execution_count": null,
   "metadata": {},
   "outputs": [],
   "source": [
    "name = \"John Johnson\"\n",
    "name.isspace()"
   ]
  },
  {
   "cell_type": "code",
   "execution_count": null,
   "metadata": {},
   "outputs": [],
   "source": [
    "name.isalnum()"
   ]
  },
  {
   "cell_type": "code",
   "execution_count": null,
   "metadata": {},
   "outputs": [],
   "source": [
    "\"1729\".isdigit()"
   ]
  },
  {
   "cell_type": "code",
   "execution_count": null,
   "metadata": {},
   "outputs": [],
   "source": [
    "\"-1729\".isdigit()"
   ]
  },
  {
   "cell_type": "markdown",
   "metadata": {
    "slideshow": {
     "slide_type": "slide"
    }
   },
   "source": [
    "# Input Validation"
   ]
  },
  {
   "cell_type": "code",
   "execution_count": null,
   "metadata": {},
   "outputs": [],
   "source": [
    "# Write a program that prints the month of a given number between [1-3], for example\n",
    "# if the user enters 1, the program should print january."
   ]
  },
  {
   "cell_type": "code",
   "execution_count": null,
   "metadata": {},
   "outputs": [],
   "source": [
    "userMonth = int(input('Enter a number between [1-3] to get the month: '))\n",
    "if not (1 <= userMonth <= 3):\n",
    "    print('Error: Please enter a number between [1-3]')\n",
    "elif (userMonth == 1 ):\n",
    "    print('1 is January')\n",
    "elif (userMonth == 2 ):\n",
    "    print('2 is February')\n",
    "elif (userMonth == 3 ):\n",
    "    print('3 is March')        "
   ]
  },
  {
   "cell_type": "code",
   "execution_count": null,
   "metadata": {},
   "outputs": [],
   "source": []
  },
  {
   "cell_type": "code",
   "execution_count": null,
   "metadata": {},
   "outputs": [],
   "source": []
  },
  {
   "cell_type": "markdown",
   "metadata": {},
   "source": [
    "# The While Loop\n",
    "- As long as the condition remains true, the statements\n",
    "inside the <font color='blue'>**while**</font> statement are executed. \n",
    "- This statement block is called the <font color='blue'>**body**</font> of the while statement."
   ]
  },
  {
   "cell_type": "markdown",
   "metadata": {},
   "source": [
    "# The While Loop\n",
    "## Count-Controlled Loops"
   ]
  },
  {
   "cell_type": "markdown",
   "metadata": {},
   "source": [
    "- A while loop that is controlled by a counter:"
   ]
  },
  {
   "cell_type": "code",
   "execution_count": null,
   "metadata": {},
   "outputs": [],
   "source": [
    "counter = 1                 # Initialize the counter\n",
    "\n",
    "while counter <= 10 :       # Check the counter\n",
    "    counter = counter + 1   # Update the loop variable\n",
    "    print(counter)\n"
   ]
  },
  {
   "cell_type": "markdown",
   "metadata": {},
   "source": [
    "# The While Loop - Student Activity\n",
    "- What does the following loop print?"
   ]
  },
  {
   "cell_type": "code",
   "execution_count": null,
   "metadata": {},
   "outputs": [],
   "source": [
    "n =1\n",
    "while n < 100:\n",
    "    n = 2* n\n",
    "    print(n)"
   ]
  },
  {
   "cell_type": "code",
   "execution_count": null,
   "metadata": {},
   "outputs": [],
   "source": [
    "i = 0\n",
    "total = 0\n",
    "while total < 0:\n",
    "    i = i + 1\n",
    "    total = total - i\n",
    "    print(i,total)"
   ]
  },
  {
   "cell_type": "markdown",
   "metadata": {},
   "source": [
    "# Common Loop Algorithms\n",
    "- Sum and Average Values:"
   ]
  },
  {
   "cell_type": "code",
   "execution_count": null,
   "metadata": {},
   "outputs": [],
   "source": [
    "total = 0.0\n",
    "inputStr = input(\"Enter value: \")\n",
    "while inputStr !=\"\":\n",
    "    value = float(inputStr)\n",
    "    total = total + value\n",
    "    inputStr = input(\"Enter value: \")\n",
    "print(\"Sum: \",total)"
   ]
  },
  {
   "cell_type": "markdown",
   "metadata": {},
   "source": [
    "# The `for` Loop"
   ]
  },
  {
   "cell_type": "markdown",
   "metadata": {},
   "source": [
    "- Uses of a `for` loop:\n",
    "    - The `for` loop can be used to iterate over the contents of any container.\n",
    "    - A container is an object (like a string) that contains or stores a collection of elements.\n",
    "    - A string is a container that stores a sequence of characters. "
   ]
  },
  {
   "cell_type": "code",
   "execution_count": null,
   "metadata": {},
   "outputs": [],
   "source": [
    "stateName = \"Virginia\"\n",
    "for letter in stateName :\n",
    "    print(letter)"
   ]
  },
  {
   "cell_type": "markdown",
   "metadata": {},
   "source": [
    "\n",
    "> <img src=\"images/forloop.png\" /><br />\n"
   ]
  },
  {
   "cell_type": "markdown",
   "metadata": {},
   "source": [
    "# The `for` Loop\n",
    "- Can we write this program using a <font color='blue'>**while**</font> loop?"
   ]
  },
  {
   "cell_type": "code",
   "execution_count": null,
   "metadata": {},
   "outputs": [],
   "source": [
    "myName = \"Hadi\"\n",
    "for letter in myName :\n",
    "    print(letter)\n",
    "# in while loop:\n",
    "\n",
    "# counter = 0 "
   ]
  },
  {
   "cell_type": "code",
   "execution_count": null,
   "metadata": {},
   "outputs": [],
   "source": [
    "i = 0\n",
    "myName = \"Virginia\"\n",
    "while i < len(myName):\n",
    "    letter = myName[i]\n",
    "    print(letter)\n",
    "    i = i + 1"
   ]
  },
  {
   "cell_type": "markdown",
   "metadata": {},
   "source": [
    "# The for Loop\n",
    "- The <font color='blue'>**for**</font> loop can be used with the `range` function to iterate over a range of integer values.\n",
    "- When we write `range(i,j)`, what are the range values (assuming that $i < j$?) "
   ]
  },
  {
   "cell_type": "code",
   "execution_count": null,
   "metadata": {},
   "outputs": [],
   "source": [
    "for i in range(1,10):\n",
    "    print(i)"
   ]
  },
  {
   "cell_type": "code",
   "execution_count": null,
   "metadata": {},
   "outputs": [],
   "source": [
    "i = 1\n",
    "while i < 10:\n",
    "    print(i)\n",
    "    i = i + 1"
   ]
  },
  {
   "cell_type": "markdown",
   "metadata": {},
   "source": [
    "# The range Function\n",
    "- You can use a for loop as a count-controlled loop to iterate over a range of integer values. \n",
    "- We use the `range` function for generating a sequence of integers that are less than the argument that can be used with the for loop. "
   ]
  },
  {
   "cell_type": "code",
   "execution_count": null,
   "metadata": {},
   "outputs": [],
   "source": [
    "\n",
    "for i in range(5):\n",
    "    print(i)\n",
    "    \n",
    "# for i in range(1,5):\n",
    "#     print(i)\n",
    "# for i in range(1,11,2):\n",
    "#     print(i) "
   ]
  },
  {
   "cell_type": "markdown",
   "metadata": {},
   "source": [
    "# Processing Strings\n",
    "- A common use of loops is to process or evaluate strings.\n",
    "- For example, you may need to count the number of occurrences of one or more characters in a string or verify that the contents of a string meet certain criteria. "
   ]
  },
  {
   "cell_type": "code",
   "execution_count": null,
   "metadata": {},
   "outputs": [],
   "source": [
    "string = \"This is a Test Message\"\n",
    "uppercase = 0\n",
    "for char in string:\n",
    "    if char.isupper():\n",
    "        uppercase = uppercase + 1\n",
    "print(\"The number of uppercase letters are:\",uppercase)"
   ]
  },
  {
   "cell_type": "markdown",
   "metadata": {},
   "source": [
    "## Finding All Matches\n",
    "- For example, suppose you are asked to print the position of each uppercase letter in a sentence. "
   ]
  },
  {
   "cell_type": "markdown",
   "metadata": {},
   "source": [
    "## Processing Strings: Slices\n",
    "- Sometimes, we are interested in looking at a part of a string.  \n",
    "- For example, assume that we would like to extract the area code from the telephone number.\n",
    "    - For `phoneNumber = \"(323)570-1234\"`, we would like to extract `323`.\n",
    "- This can be achieved using the `slice` operator, **[`:`]**. For example,\n"
   ]
  },
  {
   "cell_type": "code",
   "execution_count": null,
   "metadata": {},
   "outputs": [],
   "source": [
    "## Finding the area code using the slice operator\n",
    "phoneNumber = \"(323)570-1234\"\n",
    "areaCode = phoneNumber[1:4]\n",
    "print(\"The area code is \"+ areaCode)"
   ]
  },
  {
   "cell_type": "markdown",
   "metadata": {},
   "source": [
    "### Examples\n",
    "- The following examples show the various uses of the slice operator\n",
    "\n",
    "> <img src=\"images/Abood.png\" /><br />\n"
   ]
  },
  {
   "cell_type": "code",
   "execution_count": null,
   "metadata": {},
   "outputs": [],
   "source": [
    "Name = \"Abdullah Salem Al-Saleh\""
   ]
  },
  {
   "cell_type": "code",
   "execution_count": null,
   "metadata": {},
   "outputs": [],
   "source": [
    "print(Name[0:8])"
   ]
  },
  {
   "cell_type": "code",
   "execution_count": null,
   "metadata": {},
   "outputs": [],
   "source": [
    "print(Name[:8])"
   ]
  },
  {
   "cell_type": "code",
   "execution_count": null,
   "metadata": {},
   "outputs": [],
   "source": [
    "print(Name[9:])"
   ]
  },
  {
   "cell_type": "code",
   "execution_count": null,
   "metadata": {},
   "outputs": [],
   "source": [
    "print(Name[7:22:3])"
   ]
  },
  {
   "cell_type": "markdown",
   "metadata": {},
   "source": [
    "# Functions as Black Boxes\n",
    "- A <font color='blue'>**function**</font> is a sequence of instructions with a name."
   ]
  },
  {
   "cell_type": "markdown",
   "metadata": {},
   "source": [
    "- For example, the <font color='blue'>**round**</font> function, contains instructions to round a floating point value to a specified number of decimal places.\n",
    "- You <font color='blue'>**call**</font> a function in order to execute its instruction. "
   ]
  },
  {
   "cell_type": "code",
   "execution_count": null,
   "metadata": {},
   "outputs": [],
   "source": [
    "price = round(6.8275,2) # Sets results to 6.83\n",
    "print(\"Price:\",price)"
   ]
  },
  {
   "cell_type": "markdown",
   "metadata": {},
   "source": [
    "# Functions as Black Boxes\n",
    "- When another function calls the round function, it provides <font color='blue'>**“inputs”**</font>, such as the values 6.8275 and 2 in the call round(6.8275, 2). \n",
    "- These values are called the <font color='blue'>**arguments**</font> of the function call. \n",
    "    - Note that they are not necessarily inputs provided by a human user. \n",
    "    - They are simply the values for which we want the function to compute a result.\n",
    "- The <font color='blue'>**“output”**</font> that the round function computes is called the <font color='blue'>**return value**</font>."
   ]
  },
  {
   "cell_type": "markdown",
   "metadata": {},
   "source": [
    "> <img src=\"images/blackbox.png\" /><br />\n"
   ]
  },
  {
   "cell_type": "markdown",
   "metadata": {},
   "source": [
    "- We can think of round as a black box. "
   ]
  },
  {
   "cell_type": "markdown",
   "metadata": {},
   "source": [
    "## Implementing a Function\n",
    "- When defining a <font color='blue'>**function**</font>, you provide a <font color='blue'>**name**</font> for the function and a <font color='blue'>**variable**</font> for each <font color='blue'>**argument**</font>. "
   ]
  },
  {
   "cell_type": "markdown",
   "metadata": {},
   "source": [
    "- Let us start with a very simple example: \n",
    "    - a function to compute the volume of a cube with a given side length.\n"
   ]
  },
  {
   "cell_type": "markdown",
   "metadata": {},
   "source": [
    "# Implementing and Testing Functions"
   ]
  },
  {
   "cell_type": "markdown",
   "metadata": {},
   "source": [
    "- When writing this function, you need to\n",
    "    - Pick a <font color='blue'>**name**</font> for the function (cubeVolume)\n",
    "    - Define a variable for each <font color='blue'>**argument**</font> (sideLength). These variables are called the <font color='blue'>**parameter variables**</font>.\n",
    "- Put all this information together along with the <font color='blue'>**def**</font> reserved word to form the first line of the function's definition:\n",
    "    - <font color='blue'>**def cubeVolume(sideLength):**</font>"
   ]
  },
  {
   "cell_type": "code",
   "execution_count": null,
   "metadata": {},
   "outputs": [],
   "source": [
    "def cubeVolume(sideLength): # Header\n",
    "    volume = sideLength ** 3 #  ---\n",
    "                             #    | Body\n",
    "    return volume            #  ---"
   ]
  },
  {
   "cell_type": "markdown",
   "metadata": {},
   "source": [
    "## Testing a Function\n",
    "- In order to test the function, your program should contain:\n",
    "    - The definition of the function.\n",
    "    - Statements that call the function and print the result. "
   ]
  },
  {
   "cell_type": "code",
   "execution_count": null,
   "metadata": {},
   "outputs": [],
   "source": [
    "def cubeVolume(sideLength):\n",
    "    volume = sideLength ** 3\n",
    "    return volume\n",
    "result1 = cubeVolume(2)\n",
    "result2 = cubeVolume(10)\n",
    "print(\"A cube with side length 2 has volume\", result1)\n",
    "print(\"A cube with side length 10 has volume\", result2)"
   ]
  },
  {
   "cell_type": "markdown",
   "metadata": {},
   "source": [
    "## Student Activity\n",
    "- Define a function squareArea that computes the area of a square of a given side length. \n",
    "- $Square Area$ =  $SideLength^2$"
   ]
  },
  {
   "cell_type": "code",
   "execution_count": null,
   "metadata": {},
   "outputs": [],
   "source": [
    "#"
   ]
  },
  {
   "cell_type": "markdown",
   "metadata": {},
   "source": [
    "# Basic Properties of Lists\n",
    "## Motivation\n",
    "- Assume that you are given 10 values to store in a program for later processing (e.g. finding the largest element).\n",
    "- One way to achieve this is to use 10 variables `value1`, `value2`, ..., `value10`.      "
   ]
  },
  {
   "cell_type": "markdown",
   "metadata": {},
   "source": [
    "- 32\n",
    "- 54\n",
    "- 67.5\n",
    "- 29\n",
    "- 35\n",
    "- 80\n",
    "- 115\n",
    "- 44.5\n",
    "- 100\n",
    "- 65"
   ]
  },
  {
   "cell_type": "code",
   "execution_count": null,
   "metadata": {},
   "outputs": [],
   "source": []
  },
  {
   "cell_type": "markdown",
   "metadata": {},
   "source": [
    "- من صجك بتقعد تسجلهم قيمة قيمة في متغير؟ :)"
   ]
  },
  {
   "cell_type": "markdown",
   "metadata": {},
   "source": [
    "## Creating Lists\n",
    "- `values = [32, 54, 67.5, 29, 35, 80, 115, 44.5, 100, 65]`\n",
    "    - The square brackets indicate that we are creating a list. \n",
    "    - The items are stored in the order they are provided. "
   ]
  },
  {
   "cell_type": "markdown",
   "metadata": {},
   "source": [
    "> <img src=\"images/listinit.png\" /><br />\n"
   ]
  },
  {
   "cell_type": "markdown",
   "metadata": {},
   "source": [
    "## Accessing List Elements\n",
    "- A list is a sequence of elements, each of which has an integer position or index\n",
    "- To access a list element, you specify which index you want to use.\n",
    "- نفس السترنق أخوي\n",
    "- string[0] وهكذا"
   ]
  },
  {
   "cell_type": "markdown",
   "metadata": {},
   "source": [
    "> <img src=\"images/listaccess.png\" /><br />\n"
   ]
  },
  {
   "cell_type": "code",
   "execution_count": null,
   "metadata": {},
   "outputs": [],
   "source": [
    "values = [32, 54, 67.5, 29, 35, 80, 115, 44.5, 100, 65]\n",
    "# We want to access 29, what index we should pick?\n",
    "# > \n",
    "\n",
    "\n",
    "#To try:\n",
    "# values[5]=87\n",
    "# print(values[5])\n",
    "# print(type(values[2]))\n",
    "# print(type(values[3]))"
   ]
  },
  {
   "cell_type": "code",
   "execution_count": null,
   "metadata": {},
   "outputs": [],
   "source": [
    "# Does this work in python?\n",
    "\n",
    "String = 'Hi'\n",
    "String[0] = '2'"
   ]
  },
  {
   "cell_type": "markdown",
   "metadata": {},
   "source": [
    "## Differences between Lists and Strings\n",
    "- There are two differences between **lists** and **strings**\n",
    "    - Lists can hold values of any type, whereas strings are sequences of characters. \n",
    "    - Strings are immutable — you cannot change the characters in the sequence. But lists are mutable."
   ]
  },
  {
   "cell_type": "markdown",
   "metadata": {},
   "source": [
    "> <img src=\"images/ListSyntax.png\" /><br />\n"
   ]
  },
  {
   "cell_type": "markdown",
   "metadata": {},
   "source": [
    "- When accessing a variable in a list, the index of the list must stay within the valid range.\n",
    "    - Otherwise, an **out-of-range** error will result from using an index not in the range."
   ]
  },
  {
   "cell_type": "code",
   "execution_count": null,
   "metadata": {},
   "outputs": [],
   "source": [
    "values = [32, 54, 67.5, 29, 35, 80, 115, 44.5, 100, 65]\n",
    "values[10]=87\n"
   ]
  },
  {
   "cell_type": "markdown",
   "metadata": {},
   "source": [
    "## List Traversal\n",
    "- **List traversal** refers to visiting (and may be processing) each element in the list once."
   ]
  },
  {
   "cell_type": "code",
   "execution_count": null,
   "metadata": {},
   "outputs": [],
   "source": [
    "values = [32, 54, 67.5, 29, 35, 80, 115, 44.5, 100, 65]\n",
    "# You only have access to elements\n",
    "# مو قلنا ان  الفور لوب كونينر؟\n",
    "for element in values :\n",
    " print(element)"
   ]
  },
  {
   "cell_type": "code",
   "execution_count": null,
   "metadata": {},
   "outputs": [],
   "source": [
    "length = len(values)\n",
    "for i in range(length):\n",
    "    print(i, values[i])"
   ]
  },
  {
   "cell_type": "code",
   "execution_count": null,
   "metadata": {},
   "outputs": [],
   "source": [
    "list(range(9))"
   ]
  },
  {
   "cell_type": "markdown",
   "metadata": {},
   "source": [
    "> <img src=\"images/listinit.png\" /><br />\n"
   ]
  },
  {
   "cell_type": "markdown",
   "metadata": {},
   "source": [
    "- A list variable contains a **reference** to the list contents.  \n",
    "- The **reference** is the location of the list contents (in memory). "
   ]
  },
  {
   "cell_type": "markdown",
   "metadata": {},
   "source": [
    "- That is why when you assign a list variable into another, both variables refer to the same list\n",
    "    - The second variable is an **alias** for the first because both variables reference the same list"
   ]
  },
  {
   "cell_type": "code",
   "execution_count": null,
   "metadata": {},
   "outputs": [],
   "source": [
    "scores = [10, 9, 7, 4, 5]\n",
    "values = scores"
   ]
  },
  {
   "cell_type": "markdown",
   "metadata": {},
   "source": [
    "> <img src=\"images/scores.png\" /><br />\n"
   ]
  },
  {
   "cell_type": "code",
   "execution_count": null,
   "metadata": {},
   "outputs": [],
   "source": [
    "scores = [10, 9, 7, 4, 5]\n",
    "values = scores\n",
    "scores[3] = 10\n",
    "print(values[3])"
   ]
  },
  {
   "cell_type": "markdown",
   "metadata": {},
   "source": [
    "## Student Activity\n",
    "- Define a list of integers, `primes`, containing the first five prime numbers.\n",
    "- What does the list `primes` contain after executing the following loop."
   ]
  },
  {
   "cell_type": "code",
   "execution_count": null,
   "metadata": {},
   "outputs": [],
   "source": [
    "## Student Activity\n",
    "# primes\n",
    "for i in range(2) :\n",
    " primes[4 - i] = primes[i]\n",
    "print(primes)"
   ]
  },
  {
   "cell_type": "markdown",
   "metadata": {},
   "source": [
    "# List Operations\n",
    "## Appending Elements\n",
    "- If we do not know all the elements of a list, beforehand, we can create an empty list and add elements to the end as needed."
   ]
  },
  {
   "cell_type": "markdown",
   "metadata": {},
   "source": [
    "> <img src=\"images/listappend.png\" /><br />\n"
   ]
  },
  {
   "cell_type": "markdown",
   "metadata": {},
   "source": [
    "## Inserting Elements\n",
    "- Sometimes the order in which elements are added to a list is important\n",
    "- A new element has to be inserted at a specific position in the list\n",
    "- e.g.,"
   ]
  },
  {
   "cell_type": "code",
   "execution_count": null,
   "metadata": {},
   "outputs": [],
   "source": [
    "friends = [\"Harry\", \"Emily\", \"Bob\", \"Cari\"]"
   ]
  },
  {
   "cell_type": "markdown",
   "metadata": {},
   "source": [
    "> <img src=\"images/listinsert.png\" /><br />\n"
   ]
  },
  {
   "cell_type": "code",
   "execution_count": null,
   "metadata": {},
   "outputs": [],
   "source": [
    "friends = [\"Harry\", \"Emily\", \"Bob\", \"Cari\"]\n",
    "friends.insert(1, \"Cindy\")\n",
    "print(friends)"
   ]
  },
  {
   "cell_type": "markdown",
   "metadata": {},
   "source": [
    "> <img src=\"images/listinsert1.png\" /><br />\n"
   ]
  },
  {
   "cell_type": "markdown",
   "metadata": {},
   "source": [
    "- Note that the index at which the new element is to be inserted must be between 0 and the number of elements currently in the list. "
   ]
  },
  {
   "cell_type": "markdown",
   "metadata": {},
   "source": [
    "## Finding an Element\n",
    "- We can determine whether the element is in the list or not"
   ]
  },
  {
   "cell_type": "code",
   "execution_count": null,
   "metadata": {},
   "outputs": [],
   "source": [
    "friends = [\"Harry\", \"Emily\", \"Bob\", \"Cari\", \"Emily\"]\n",
    "if \"Cindy\" in friends :\n",
    "    print(\"She's a friend\")"
   ]
  },
  {
   "cell_type": "markdown",
   "metadata": {},
   "source": [
    "- We can, further, determine the index of the element if it is in the list."
   ]
  },
  {
   "cell_type": "code",
   "execution_count": null,
   "metadata": {},
   "outputs": [],
   "source": [
    "friends = [\"Harry\", \"Emily\", \"Bob\", \"Cari\", \"Emily\"]\n",
    "n = friends.index(\"Emily\")\n",
    "print(n)"
   ]
  },
  {
   "cell_type": "markdown",
   "metadata": {},
   "source": [
    "## Removing an Element\n",
    "- The `pop()` method removes the element at a given position."
   ]
  },
  {
   "cell_type": "code",
   "execution_count": null,
   "metadata": {},
   "outputs": [],
   "source": [
    "friends = [\"Harry\", \"Cindy\", \"Emily\", \"Bob\", \"Cari\",\"Bill\"]\n",
    "friends.pop(1)\n",
    "print(friends)"
   ]
  },
  {
   "cell_type": "markdown",
   "metadata": {},
   "source": [
    "- The `pop()` method without an argument will remove the last element in the list."
   ]
  },
  {
   "cell_type": "code",
   "execution_count": null,
   "metadata": {},
   "outputs": [],
   "source": [
    "friends = [\"Harry\", \"Cindy\", \"Emily\", \"Bob\", \"Cari\",\"Bill\"]\n",
    "friends.pop()\n",
    "print(friends)"
   ]
  },
  {
   "cell_type": "markdown",
   "metadata": {},
   "source": [
    "- The element removed from the list is **returned** by the pop() method."
   ]
  },
  {
   "cell_type": "code",
   "execution_count": null,
   "metadata": {},
   "outputs": [],
   "source": [
    "friends = [\"Harry\", \"Cindy\", \"Emily\", \"Bob\", \"Cari\",\"Bill\"]\n",
    "print(friends.pop())\n",
    "print(friends)"
   ]
  },
  {
   "cell_type": "markdown",
   "metadata": {},
   "source": [
    "- The remove method removes an element by ***value*** instead of by ***position***. "
   ]
  },
  {
   "cell_type": "code",
   "execution_count": null,
   "metadata": {},
   "outputs": [],
   "source": [
    "friends = [\"Harry\", \"Cindy\", \"Emily\", \"Bob\", \"Cari\",\"Bill\"]\n",
    "friends.remove(\"Cari\")\n",
    "print(friends)"
   ]
  },
  {
   "cell_type": "markdown",
   "metadata": {},
   "source": [
    "- Note that the value being removed must be in the list or an exception is raised. \n"
   ]
  },
  {
   "cell_type": "markdown",
   "metadata": {},
   "source": [
    "## Concatenation and Replication\n",
    "- The concatenation of two lists is a new list that contains the elements of the first list, followed by the elements of the second.\n",
    "- This is accomplished using the concatenation operator **`+`**."
   ]
  },
  {
   "cell_type": "code",
   "execution_count": null,
   "metadata": {},
   "outputs": [],
   "source": [
    "myFriends = [\"Fritz\", \"Cindy\"]\n",
    "yourFriends = [\"Lee\", \"Pat\", \"Phuong\"]\n",
    "ourFriends = myFriends + yourFriends\n",
    "print(ourFriends)"
   ]
  },
  {
   "cell_type": "markdown",
   "metadata": {},
   "source": [
    "- If you want to concatenate the same list multiple times, use the replication operator **`*`**."
   ]
  },
  {
   "cell_type": "code",
   "execution_count": null,
   "metadata": {},
   "outputs": [],
   "source": [
    "# Repeating the same list multiple times\n",
    "monthInQurater = [1, 2, 3] * 4\n",
    "print(monthInQurater)"
   ]
  },
  {
   "cell_type": "code",
   "execution_count": null,
   "metadata": {},
   "outputs": [],
   "source": [
    "# Replication can be used to initialize a list with a fixed value\n",
    "monthlyScores = [0] * 12\n",
    "print(monthlyScores)"
   ]
  },
  {
   "cell_type": "markdown",
   "metadata": {},
   "source": [
    "## Equality Testing\n",
    "- You can use the == operator to compare whether two lists have the same elements, in the same order.\n",
    "- Similarly, you can use the != operator to compare whether two lists are different."
   ]
  },
  {
   "cell_type": "code",
   "execution_count": null,
   "metadata": {},
   "outputs": [],
   "source": [
    "l1 = [1, 4, 9] == [1, 4, 9]     # Result is\n",
    "l2 = [1, 4, 9 ] == [4, 1, 9]    # Result is\n",
    "l3 = [1, 4, 9] != [1, 4]   # Result is\n",
    "print(\"l1 is\", l1, \", l2 is\", l2, \"and l3 is\", l3)"
   ]
  },
  {
   "cell_type": "markdown",
   "metadata": {},
   "source": [
    "## Copying Lists\n",
    "- Given a list **`values`**, if we want to make a copy of it, does the following work?"
   ]
  },
  {
   "cell_type": "code",
   "execution_count": null,
   "metadata": {},
   "outputs": [],
   "source": [
    "values = [32, 54, 67.5, 29, 35, 80, 115, 44.5, 100, 65]\n",
    "anotherCopy = values\n",
    "print(values)\n",
    "print(anotherCopy)\n",
    "anotherCopy[2] = -1 \n",
    "print(values)\n",
    "print(anotherCopy)"
   ]
  },
  {
   "cell_type": "code",
   "execution_count": null,
   "metadata": {},
   "outputs": [],
   "source": [
    "values = [32, 54, 67.5, 29, 35, 80, 115, 44.5, 100, 65]\n",
    "anotherCopy = list(values)\n",
    "print(values)\n",
    "print(anotherCopy)\n",
    "anotherCopy[2] = -1 \n",
    "print(values)\n",
    "print(anotherCopy)"
   ]
  },
  {
   "cell_type": "markdown",
   "metadata": {},
   "source": [
    "# Common List Algorithms"
   ]
  },
  {
   "cell_type": "markdown",
   "metadata": {},
   "source": [
    "## Filling\n",
    "- Write Python code that will generate a list of squares (0, 1, 4, 9, 16, ..., 100)."
   ]
  },
  {
   "cell_type": "code",
   "execution_count": null,
   "metadata": {},
   "outputs": [],
   "source": []
  },
  {
   "cell_type": "code",
   "execution_count": null,
   "metadata": {},
   "outputs": [],
   "source": [
    "values = []\n",
    "for i in range(11) :\n",
    " values.append(i * i)\n",
    "print(values)"
   ]
  },
  {
   "cell_type": "markdown",
   "metadata": {},
   "source": [
    "# Using Lists with Functions\n",
    "- A function can accept a list as an argument.\n",
    "- The following function multiplies all elements of a list by a given factor:"
   ]
  },
  {
   "cell_type": "code",
   "execution_count": null,
   "metadata": {},
   "outputs": [],
   "source": [
    "def multiply(values, factor) :\n",
    "    for i in range(len(values)) :\n",
    "        values[i] = values[i] * factor\n",
    "scores = [32, 54, 67.5, 29, 35]        \n",
    "multiply (scores, 10)"
   ]
  },
  {
   "cell_type": "code",
   "execution_count": null,
   "metadata": {},
   "outputs": [],
   "source": [
    "# Do you think that the values of the list scores will change?\n",
    "print(scores)    "
   ]
  },
  {
   "cell_type": "markdown",
   "metadata": {},
   "source": [
    "- The answer is yes. The reason is that `values` has a copy of the reference to the `scores` list."
   ]
  },
  {
   "cell_type": "markdown",
   "metadata": {},
   "source": [
    "## Returning Lists from Functions\n",
    "- Create and build the list inside the function and then return it.\n",
    "- The following example function **`squares`** returns a list of squares from $0^2$ up to $(n–1)^2$."
   ]
  },
  {
   "cell_type": "code",
   "execution_count": null,
   "metadata": {},
   "outputs": [],
   "source": [
    "def squares(n) :\n",
    "    result = []\n",
    "    for i in range(n) :\n",
    "        result.append(i * i)\n",
    "    return result\n",
    "myList = squares(8)\n",
    "print(myList)"
   ]
  },
  {
   "cell_type": "markdown",
   "metadata": {},
   "source": [
    "# Dictionaries\n",
    "- A dictionary is a container that keeps associations between **keys** and **values**. \n",
    "    - Every key in the dictionary has an associated value.  \n",
    "  > <img src=\"images/dict.png\" /><br />\n",
    "\n"
   ]
  },
  {
   "cell_type": "code",
   "execution_count": null,
   "metadata": {},
   "outputs": [],
   "source": [
    "favoriteColors = { \"Romeo\": \"Green\", \"Adam\": \"Red\", \"John\": \"Blue\", \"Sam\": \"Red\" }\n",
    "print(favoriteColors)"
   ]
  },
  {
   "cell_type": "markdown",
   "metadata": {},
   "source": [
    "## Creating Dictionaries\n",
    "- A dictionary is created where each key:value pair is separated by a colon.\n"
   ]
  },
  {
   "cell_type": "code",
   "execution_count": null,
   "metadata": {},
   "outputs": [],
   "source": [
    "contacts = { \"Fred\": 7235591, \"Mary\": 3841212, \"Bob\": 3841212, \"Sarah\": 2213278 }\n",
    "print(contacts)"
   ]
  },
  {
   "cell_type": "markdown",
   "metadata": {},
   "source": [
    "> <img src=\"images/dict2.png\" /><br />\n"
   ]
  },
  {
   "cell_type": "markdown",
   "metadata": {},
   "source": [
    "## Accessing Dictionary Values\n",
    "- The subscript operator []  is used to return the value associated with a key."
   ]
  },
  {
   "cell_type": "code",
   "execution_count": null,
   "metadata": {},
   "outputs": [],
   "source": [
    "contacts = { \"Fred\": 7235591, \"Mary\": 3841212, \"Bob\": 3841212, \"Sarah\": 2213278 }\n",
    "print(\"Bob's number is\", contacts[\"Bob\"])"
   ]
  },
  {
   "cell_type": "markdown",
   "metadata": {},
   "source": [
    "- You cannot access the items by index or position. \n",
    "    - A **value** can only be accessed using its associated **key**."
   ]
  },
  {
   "cell_type": "markdown",
   "metadata": {},
   "source": [
    "- Note that the key supplied to the subscript operator must be a valid key in the dictionary, otherwise a `KeyError` exception will be raised."
   ]
  },
  {
   "cell_type": "code",
   "execution_count": null,
   "metadata": {},
   "outputs": [],
   "source": [
    "contacts = { \"Fred\": 7235591, \"Mary\": 3841212, \"Bob\": 3841212, \"Sarah\": 2213278 }\n",
    "myContact = input(\"Enter the contact name: \")\n",
    "if myContact in contacts :\n",
    "    print(myContact + \"'s number is\", contacts[myContact])\n",
    "else :\n",
    "    print(myContact + \" is not in my contact list.\")"
   ]
  },
  {
   "cell_type": "markdown",
   "metadata": {},
   "source": [
    "## Adding and Modifying Items in a Dictionary"
   ]
  },
  {
   "cell_type": "code",
   "execution_count": null,
   "metadata": {},
   "outputs": [],
   "source": [
    "contacts = { \"Fred\": 7235591, \"Mary\": 3841212, \"Bob\": 3841212, \"Sarah\": 2213278 }\n",
    "contacts[\"John\"] = 2034847 # Adding a new contact\n",
    "print(contacts)\n",
    "contacts[\"John\"] = 2037663 # Modifying the value of a contact\n",
    "print(contacts)"
   ]
  },
  {
   "cell_type": "code",
   "execution_count": null,
   "metadata": {},
   "outputs": [],
   "source": [
    "favoriteColors = {}                # In case we do not know the elements of the dictionary beforehand\n",
    "favoriteColors[\"Juliet\"] = \"Blue\"  # Add a key:value pair to the dictionary\n",
    "favoriteColors[\"Adam\"] = \"Red\"     # Add a key:value pair to the dictionary\n",
    "favoriteColors[\"Eve\"] = \"Blue\"     # Add a key:value pair to the dictionary\n",
    "favoriteColors[\"Romeo\"] = \"Green\"  # Add a key:value pair to the dictionary\n",
    "print(favoriteColors)"
   ]
  },
  {
   "cell_type": "markdown",
   "metadata": {},
   "source": [
    "## Removing a key from a Dictionary\n",
    "- Call the `pop` method with the key as the argument. \n",
    "- `pop` returns the value of the removed key.\n",
    "- A `KeyError` exception is raised if the key to be removed is not in the dictionary."
   ]
  },
  {
   "cell_type": "code",
   "execution_count": null,
   "metadata": {},
   "outputs": [],
   "source": [
    "contacts = { \"Fred\": 7235591, \"Mary\": 3841212, \"Bob\": 3841212, \"Sarah\": 2213278 }\n",
    "myContact = input(\"Enter the contact name to remove: \")\n",
    "contactsNumber = contacts.pop(myContact)\n",
    "print(myContact + \" was removed, and the current contacts contain the following\\n\", contacts)"
   ]
  },
  {
   "cell_type": "markdown",
   "metadata": {},
   "source": [
    "## Traversing a Dictionary\n",
    "- To access the value associated with a key in the body of the loop, you can use the loop variable with the subscript operator. "
   ]
  },
  {
   "cell_type": "code",
   "execution_count": null,
   "metadata": {},
   "outputs": [],
   "source": [
    "contacts = { \"Fred\": 7235591, \"Mary\": 3841212, \"Bob\": 3841212, \"Sarah\": 2213278 }\n",
    "print(\"My Contacts:\")\n",
    "for key in contacts :\n",
    "    print('the key is > ', key)\n",
    "    print(key, contacts[key])"
   ]
  },
  {
   "cell_type": "code",
   "execution_count": null,
   "metadata": {},
   "outputs": [],
   "source": [
    "contacts = { \"Fred\": 7235591, \"Mary\": 3841212, \n",
    "            \"Bob\": 3841212, \"Sarah\": 2213278 }\n",
    "phoneNumbers = [] # Create an empty list.\n",
    "for number in contacts.values()  :\n",
    "    phoneNumbers.append(number)\n",
    "print(phoneNumbers)"
   ]
  },
  {
   "cell_type": "markdown",
   "metadata": {},
   "source": [
    "# Ouh what a lengthy session right? "
   ]
  },
  {
   "cell_type": "markdown",
   "metadata": {},
   "source": []
  }
 ],
 "metadata": {
  "celltoolbar": "Slideshow",
  "interpreter": {
   "hash": "c129ec12c621d16e07fe9c7adfdf8548a0f2dc95925b1f6bbf25d91abadc8424"
  },
  "kernelspec": {
   "display_name": "Python 3",
   "language": "python",
   "name": "python3"
  },
  "language_info": {
   "codemirror_mode": {
    "name": "ipython",
    "version": 3
   },
   "file_extension": ".py",
   "mimetype": "text/x-python",
   "name": "python",
   "nbconvert_exporter": "python",
   "pygments_lexer": "ipython3",
   "version": "3.8.3"
  },
  "toc": {
   "base_numbering": 1,
   "nav_menu": {},
   "number_sections": true,
   "sideBar": true,
   "skip_h1_title": false,
   "title_cell": "Table of Contents",
   "title_sidebar": "Contents",
   "toc_cell": false,
   "toc_position": {},
   "toc_section_display": true,
   "toc_window_display": false
  }
 },
 "nbformat": 4,
 "nbformat_minor": 2
}
