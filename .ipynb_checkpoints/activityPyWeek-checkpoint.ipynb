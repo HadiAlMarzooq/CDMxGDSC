{
 "cells": [
  {
   "cell_type": "code",
   "execution_count": 5,
   "metadata": {},
   "outputs": [
    {
     "name": "stdout",
     "output_type": "stream",
     "text": [
      "<class 'str'>\n"
     ]
    }
   ],
   "source": [
    "id = 2019873410\n",
    "id = str(id)\n",
    "\n",
    "print(type(id))\n",
    "\n",
    "\n",
    "\n",
    "\n",
    "# Say we want to print the student's kfupm email, \n",
    "#KFUPM Email has this form : s[ID]@kfupm.edu.sa"
   ]
  },
  {
   "cell_type": "code",
   "execution_count": null,
   "metadata": {},
   "outputs": [],
   "source": [
    "# what is the third index in (I love python?)\n",
    "s = 'I love python'\n",
    "# what is the length of s?\n",
    "print()\n",
    "\n",
    "print(len(\"had\"))"
   ]
  },
  {
   "cell_type": "code",
   "execution_count": null,
   "metadata": {},
   "outputs": [],
   "source": [
    "# Input and output\n",
    "- Write a program that takes an integer as an input then prints its sequare (x**2)"
   ]
  },
  {
   "cell_type": "code",
   "execution_count": 1,
   "metadata": {},
   "outputs": [
    {
     "name": "stdout",
     "output_type": "stream",
     "text": [
      "Please enter your x to have its square: 22\n",
      "22 Square's is 484\n"
     ]
    }
   ],
   "source": [
    "x = int(input(\"Please enter your x to have its square: \"))\n",
    "print(x,\"Square's is\", x**2)"
   ]
  },
  {
   "cell_type": "code",
   "execution_count": null,
   "metadata": {},
   "outputs": [],
   "source": []
  }
 ],
 "metadata": {
  "kernelspec": {
   "display_name": "Python 3",
   "language": "python",
   "name": "python3"
  },
  "language_info": {
   "codemirror_mode": {
    "name": "ipython",
    "version": 3
   },
   "file_extension": ".py",
   "mimetype": "text/x-python",
   "name": "python",
   "nbconvert_exporter": "python",
   "pygments_lexer": "ipython3",
   "version": "3.8.3"
  },
  "toc": {
   "base_numbering": 1,
   "nav_menu": {},
   "number_sections": true,
   "sideBar": true,
   "skip_h1_title": false,
   "title_cell": "Table of Contents",
   "title_sidebar": "Contents",
   "toc_cell": false,
   "toc_position": {},
   "toc_section_display": true,
   "toc_window_display": false
  },
  "vscode": {
   "interpreter": {
    "hash": "bbcfab25aca44efc94327c358633b06763d7d1ff3b6eda80956186e9f6f95138"
   }
  }
 },
 "nbformat": 4,
 "nbformat_minor": 2
}
