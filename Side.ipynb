{
 "cells": [
  {
   "cell_type": "code",
   "execution_count": null,
   "metadata": {},
   "outputs": [],
   "source": [
    "try:\n",
    "    userInput = eval(input('Please enter your age in years: '))\n",
    "    if userInput < 0:\n",
    "        raise ValueError()\n",
    "    else:\n",
    "        age_in_days = userInput * 365\n",
    "        print(f'Age in days is {age_in_days}')\n",
    "        \n",
    "except ValueError:\n",
    "    print('Error: Negative value entered')\n",
    "    \n",
    "        \n",
    "\n"
   ]
  },
  {
   "cell_type": "code",
   "execution_count": null,
   "metadata": {},
   "outputs": [],
   "source": [
    "try:\n",
    "    userName = str(input('Enter your name: '))\n",
    "    \n",
    "    for i in userName:\n",
    "        if i.isnumeric():\n",
    "            raise ValueError\n",
    "        \n",
    "    Min = min(userName)\n",
    "    Length = len(userName)\n",
    "    print('The Minimum Character is ', Min)\n",
    "    print('The Length of the your name is ', Length)\n",
    "except ValueError:\n",
    "    print('No Numerical Values Are allowed.')    "
   ]
  },
  {
   "cell_type": "code",
   "execution_count": null,
   "metadata": {},
   "outputs": [],
   "source": [
    "try:\n",
    "    userInput = float(input('Enter an integer: '))\n",
    "    Min = userInput\n",
    "    for i in range(2): #[0,1] (two times)\n",
    "        userInput = float(input('Enter an integer: '))\n",
    "        if userInput < Min:\n",
    "            Min = userInput\n",
    "    print('The smallest value is ', Min)        \n",
    "            \n",
    "except ValueError:\n",
    "    print('No string value is allowed')\n",
    "        "
   ]
  },
  {
   "cell_type": "code",
   "execution_count": null,
   "metadata": {},
   "outputs": [],
   "source": [
    "userMonth = int(input('Enter a number between [1-3] to get the month: '))\n",
    "if not (1 <= userMonth <= 3):\n",
    "    print('Error: Please enter a number between [1-3]')\n",
    "elif (userMonth == 1 ):\n",
    "    print('1 is January')\n",
    "elif (userMonth == 2 ):\n",
    "    print('2 is February')\n",
    "elif (userMonth == 3 ):\n",
    "    print('3 is March')        "
   ]
  },
  {
   "cell_type": "code",
   "execution_count": null,
   "metadata": {},
   "outputs": [],
   "source": [
    "try:\n",
    "    userSales = float(input('Enter your sales: '))\n",
    "    if userSales >= 100000:\n",
    "        print('High sales')\n",
    "    elif userSales >= 75000:\n",
    "        print('Medium sales')\n",
    "    else:\n",
    "        print('Low sales')\n",
    "except ValueError:\n",
    "    print('No String Values are allowed')        "
   ]
  },
  {
   "cell_type": "code",
   "execution_count": null,
   "metadata": {},
   "outputs": [],
   "source": [
    "low = int(input('Enter low limit: '))\n",
    "high = int(input('Enter high limit: '))\n",
    "\n",
    "Sum = 0\n",
    "count=0\n",
    "for i in range(low, high + 1):\n",
    "    if i % 2 == 0:\n",
    "        Sum += i\n",
    "        count += 1\n",
    "print('The sum is ',Sum)\n",
    "print('The average is ', Sum/count)"
   ]
  },
  {
   "cell_type": "code",
   "execution_count": 11,
   "metadata": {},
   "outputs": [
    {
     "name": "stdout",
     "output_type": "stream",
     "text": [
      "1\n",
      "Hello, my name is Hadi,\n",
      "                my age is Hadid, \n",
      "                and my favorite subject Calculus\n",
      "2\n",
      "Hello, my name is Hadi,\n",
      "                my age is 21, \n",
      "                and my favorite subject Calculus\n"
     ]
    }
   ],
   "source": [
    "\n",
    "\n",
    "\n",
    "\n",
    "def toString(name: str, age: int, subj: str) -> str:\n",
    "    \n",
    "    '''\n",
    "    this comment will appear in the documentation \\n\n",
    "    This function prints brief info about the person\n",
    "    '''\n",
    "    \n",
    "    return f'''Hello, my name is {name},\n",
    "                my age is {age}, \n",
    "                and my favorite subject {subj}'''\n",
    "\n",
    "\n",
    "\n",
    "\n",
    "print(1)\n",
    "print(toString(name='Hadi', age='Hadid', subj='Calculus'))\n",
    "print(2)\n",
    "print(toString(age=21, subj='Calculus',name='Hadi'))"
   ]
  },
  {
   "cell_type": "code",
   "execution_count": 7,
   "metadata": {},
   "outputs": [
    {
     "name": "stdout",
     "output_type": "stream",
     "text": [
      "1\n",
      "Hello, my name is Hadi, \n",
      "            my age is 21,\n",
      "            and my favorite subject Calculus\n",
      "2\n",
      "Hello, my name is 21, \n",
      "            my age is Calculus,\n",
      "            and my favorite subject Hadi\n"
     ]
    }
   ],
   "source": [
    "\n",
    "\n",
    "\n",
    "\n",
    "def toString(name, age, subj):\n",
    "\n",
    "    return f'''Hello, my name is {name}, \n",
    "            my age is {age},\n",
    "            and my favorite subject {subj}'''\n",
    "\n",
    "\n",
    "\n",
    "\n",
    "print(1)\n",
    "print(toString('Hadi', 21, 'Calculus'))\n",
    "print(2)\n",
    "print(toString( 21, 'Calculus','Hadi'))"
   ]
  },
  {
   "cell_type": "code",
   "execution_count": null,
   "metadata": {},
   "outputs": [],
   "source": []
  }
 ],
 "metadata": {
  "interpreter": {
   "hash": "44a88bfe42ec3600e1f6c242a65b35f20fc59083e28ce84113f039569464a29c"
  },
  "kernelspec": {
   "display_name": "Python 3.8.1 64-bit",
   "language": "python",
   "name": "python3"
  },
  "language_info": {
   "codemirror_mode": {
    "name": "ipython",
    "version": 3
   },
   "file_extension": ".py",
   "mimetype": "text/x-python",
   "name": "python",
   "nbconvert_exporter": "python",
   "pygments_lexer": "ipython3",
   "version": "3.8.1"
  },
  "orig_nbformat": 4
 },
 "nbformat": 4,
 "nbformat_minor": 2
}
