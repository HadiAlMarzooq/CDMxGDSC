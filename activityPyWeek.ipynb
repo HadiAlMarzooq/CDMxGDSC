{
 "cells": [
  {
   "cell_type": "markdown",
   "metadata": {},
   "source": [
    "# If and elif statements practice:\n",
    "- Write a program that prints the month of a given number between [1-3], for example\n",
    "-  if the user enters 1, the program should print january.\n",
    "-  if the user enters a number outside the range you should print an error message.\n"
   ]
  },
  {
   "cell_type": "code",
   "execution_count": 14,
   "metadata": {},
   "outputs": [
    {
     "name": "stdout",
     "output_type": "stream",
     "text": [
      "Enter your month [1-3] 0\n",
      "please enter a month in this range [1-3]\n"
     ]
    }
   ],
   "source": [
    "from math import *\n",
    "userMonth = floor(float(input(\"Enter your month [1-3] \")))\n",
    "\n",
    "# 1 is january\n",
    "if userMonth == 1:\n",
    "    print('it is jan')\n",
    "# 2 is feburary \n",
    "elif userMonth == 2:\n",
    "    print('it is feb')\n",
    "# 3 is march\n",
    "elif userMonth == 3:\n",
    "    print('it is march')\n",
    "# other wise ~> Error \n",
    "else:\n",
    "    print(\"please enter a month in this range [1-3]\")"
   ]
  },
  {
   "cell_type": "markdown",
   "metadata": {},
   "source": [
    "# Loops: \n",
    "- Convert the following for loop to a while loop:"
   ]
  },
  {
   "cell_type": "code",
   "execution_count": 15,
   "metadata": {},
   "outputs": [
    {
     "name": "stdout",
     "output_type": "stream",
     "text": [
      "H\n",
      "a\n",
      "d\n",
      "i\n"
     ]
    }
   ],
   "source": [
    "myName = \"Hadi\"\n",
    "for letter in myName :\n",
    "    print(letter)"
   ]
  },
  {
   "cell_type": "code",
   "execution_count": 17,
   "metadata": {},
   "outputs": [
    {
     "name": "stdout",
     "output_type": "stream",
     "text": [
      "H\n",
      "a\n",
      "d\n",
      "i\n"
     ]
    }
   ],
   "source": [
    "# while loop: \n",
    "counter = 0\n",
    "myName = \"Hadi\"\n",
    "while counter < len(myName):\n",
    "    print(myName[counter]);\n",
    "    counter = counter + 1\n",
    "    "
   ]
  },
  {
   "cell_type": "code",
   "execution_count": null,
   "metadata": {},
   "outputs": [],
   "source": []
  }
 ],
 "metadata": {
  "kernelspec": {
   "display_name": "Python 3",
   "language": "python",
   "name": "python3"
  },
  "language_info": {
   "codemirror_mode": {
    "name": "ipython",
    "version": 3
   },
   "file_extension": ".py",
   "mimetype": "text/x-python",
   "name": "python",
   "nbconvert_exporter": "python",
   "pygments_lexer": "ipython3",
   "version": "3.8.1"
  },
  "toc": {
   "base_numbering": 1,
   "nav_menu": {},
   "number_sections": true,
   "sideBar": true,
   "skip_h1_title": false,
   "title_cell": "Table of Contents",
   "title_sidebar": "Contents",
   "toc_cell": false,
   "toc_position": {},
   "toc_section_display": true,
   "toc_window_display": false
  },
  "vscode": {
   "interpreter": {
    "hash": "bbcfab25aca44efc94327c358633b06763d7d1ff3b6eda80956186e9f6f95138"
   }
  }
 },
 "nbformat": 4,
 "nbformat_minor": 2
}
