{
 "cells": [
  {
   "cell_type": "markdown",
   "metadata": {},
   "source": [
    "# Your first python program !\n",
    "- try printing the following:\n",
    "    - your name \n",
    "    - your age\n",
    "    - a future goal maybe?\n",
    "    - the addition of (9231 + 34234)"
   ]
  },
  {
   "cell_type": "code",
   "execution_count": 1,
   "metadata": {},
   "outputs": [],
   "source": [
    "# Preform the task down here :\n"
   ]
  },
  {
   "cell_type": "code",
   "execution_count": null,
   "metadata": {},
   "outputs": [],
   "source": [
    "##\n",
    "#  Sample program that demonstrates the print function.\n",
    "#\n",
    "\n",
    "# Prints 7.\n",
    "print(3 + 4) \n",
    "      \n",
    "# Prints \"Hello World!\" in two lines.\n",
    "print(\"Hello\") \n",
    "print(\"World!\")\n",
    "\n",
    "# Prints multiple values with a single print function call.\n",
    "print(\"My favorite numbers are\", 3 + 4, \"and\", 3 + 10) \n",
    "\n",
    "# Prints three lines of text with a blank line.\n",
    "print(\"Goodbye\")   \n",
    "print()\n",
    "print(\"Hope to see you again\")"
   ]
  },
  {
   "cell_type": "code",
   "execution_count": null,
   "metadata": {},
   "outputs": [],
   "source": [
    "# Scratch cell to try random things:\n",
    "# try printing 1/0 ?"
   ]
  },
  {
   "cell_type": "markdown",
   "metadata": {},
   "source": [
    "# Variables \n",
    "- Create a variable named 'PI' and assign the value 3.14 to it.\n",
    "- try multiplying it with 2 and update its value."
   ]
  },
  {
   "cell_type": "code",
   "execution_count": 3,
   "metadata": {},
   "outputs": [
    {
     "name": "stdout",
     "output_type": "stream",
     "text": [
      "3.14\n",
      "6.28\n"
     ]
    }
   ],
   "source": [
    "# Preform the task down here :\n",
    "PI = 3.14\n",
    "print(PI)\n",
    "PI = PI * 2\n",
    "print(PI)"
   ]
  },
  {
   "cell_type": "markdown",
   "metadata": {},
   "source": [
    "- Remove Illegal characters to make the assignment work:"
   ]
  },
  {
   "cell_type": "code",
   "execution_count": 1,
   "metadata": {},
   "outputs": [
    {
     "ename": "SyntaxError",
     "evalue": "invalid syntax (Temp/ipykernel_6320/2036425671.py, line 1)",
     "output_type": "error",
     "traceback": [
      "\u001b[1;36m  File \u001b[1;32m\"C:\\Users\\surface\\AppData\\Local\\Temp/ipykernel_6320/2036425671.py\"\u001b[1;36m, line \u001b[1;32m1\u001b[0m\n\u001b[1;33m    2my-first_name = \"John\"\u001b[0m\n\u001b[1;37m     ^\u001b[0m\n\u001b[1;31mSyntaxError\u001b[0m\u001b[1;31m:\u001b[0m invalid syntax\n"
     ]
    }
   ],
   "source": [
    "2my-first_name = \"John\""
   ]
  },
  {
   "cell_type": "markdown",
   "metadata": {},
   "source": [
    "# Arithmetic Expressions Examples\n",
    "<img src=\"images/ch02Fig10.png\" /><br />\n",
    "\n",
    "- try the following:\n",
    "  -  $\\sqrt{a^2+b^2}$ in python\n",
    "    - 1. with the math library\n",
    "    - 2. without the math library\n",
    "<br/>\n",
    "<img src=\"images/equation.png\" /><br />\n"
   ]
  },
  {
   "cell_type": "code",
   "execution_count": 5,
   "metadata": {},
   "outputs": [
    {
     "name": "stdout",
     "output_type": "stream",
     "text": [
      "5.0\n"
     ]
    }
   ],
   "source": [
    "#1 Hint: use 'from math import sqrt'\n",
    "from math import sqrt \n",
    "a = 3\n",
    "b = 4\n",
    "\n",
    "y = sqrt(a**2  + b**2)\n",
    "print(y)\n",
    "\n",
    "# try 3 ,4"
   ]
  },
  {
   "cell_type": "code",
   "execution_count": 7,
   "metadata": {},
   "outputs": [
    {
     "name": "stdout",
     "output_type": "stream",
     "text": [
      "5.0\n"
     ]
    }
   ],
   "source": [
    "#2 \n",
    "\n",
    "y = (a**2 + b**2)**(1/2)\n",
    "print(y)"
   ]
  },
  {
   "cell_type": "markdown",
   "metadata": {},
   "source": [
    "### Activity يلا نجرب \n",
    "- The volume of a sphere is given by $$V=\\frac{4}{3}\\pi r^3$$\n",
    "If the radius is given by a variable **radius** that contains a floating-point value,\n",
    "write a Python expression for the volume.\n",
    "</br>\n",
    "<img src=\"images/equation2.png\" /><br />\n"
   ]
  },
  {
   "cell_type": "code",
   "execution_count": 9,
   "metadata": {},
   "outputs": [
    {
     "name": "stdout",
     "output_type": "stream",
     "text": [
      "3.141592653589793\n"
     ]
    }
   ],
   "source": [
    "from math import pi \n",
    "print(pi)\n",
    "r=1\n",
    "\n",
    "V = (4/3) * (pi) * (r**3)"
   ]
  },
  {
   "cell_type": "code",
   "execution_count": null,
   "metadata": {},
   "outputs": [],
   "source": [
    "id = 2019873410\n",
    "print(type(id))\n",
    "# Say we want to print the student's kfupm email, \n",
    "#KFUPM Email has this form : s[ID]@kfupm.edu.sa"
   ]
  },
  {
   "cell_type": "markdown",
   "metadata": {},
   "source": [
    "# Input and output\n",
    "- Write a program that takes an integer as an input then prints its sequare (x**2)"
   ]
  },
  {
   "cell_type": "code",
   "execution_count": 11,
   "metadata": {},
   "outputs": [
    {
     "name": "stdout",
     "output_type": "stream",
     "text": [
      "Enter your number: 5\n",
      "25\n"
     ]
    }
   ],
   "source": [
    "# Preform the task down here :\n",
    "userInput = int(input(\"Enter your number: \"))\n",
    "userInput = userInput ** 2\n",
    "print(userInput)"
   ]
  },
  {
   "cell_type": "markdown",
   "metadata": {},
   "source": [
    "# If and elif statements practice:\n",
    "- Write a program that prints the month of a given number between [1-3], for example\n",
    "-  if the user enters 1, the program should print january.\n",
    "-  if the user enters a number outside the range you should print an error message.\n",
    "\n"
   ]
  },
  {
   "cell_type": "code",
   "execution_count": null,
   "metadata": {},
   "outputs": [],
   "source": []
  },
  {
   "cell_type": "markdown",
   "metadata": {},
   "source": [
    "# Loops: \n",
    "- Convert the following for loop to a while loop:"
   ]
  },
  {
   "cell_type": "code",
   "execution_count": null,
   "metadata": {},
   "outputs": [],
   "source": [
    "myName = ___\n",
    "for letter in myName :\n",
    "    print(letter)"
   ]
  },
  {
   "cell_type": "code",
   "execution_count": null,
   "metadata": {},
   "outputs": [],
   "source": [
    "# while loop:\n"
   ]
  },
  {
   "cell_type": "markdown",
   "metadata": {},
   "source": [
    "## Functions activity: \n",
    "- Define a function squareArea that computes the area of a square of a given side length. \n",
    "- $Square Area$ =  $SideLength^2$"
   ]
  },
  {
   "cell_type": "code",
   "execution_count": null,
   "metadata": {},
   "outputs": [],
   "source": [
    "# "
   ]
  }
 ],
 "metadata": {
  "kernelspec": {
   "display_name": "Python 3",
   "language": "python",
   "name": "python3"
  },
  "language_info": {
   "codemirror_mode": {
    "name": "ipython",
    "version": 3
   },
   "file_extension": ".py",
   "mimetype": "text/x-python",
   "name": "python",
   "nbconvert_exporter": "python",
   "pygments_lexer": "ipython3",
   "version": "3.10.10"
  },
  "toc": {
   "base_numbering": 1,
   "nav_menu": {},
   "number_sections": true,
   "sideBar": true,
   "skip_h1_title": false,
   "title_cell": "Table of Contents",
   "title_sidebar": "Contents",
   "toc_cell": false,
   "toc_position": {},
   "toc_section_display": true,
   "toc_window_display": false
  },
  "vscode": {
   "interpreter": {
    "hash": "aee8b7b246df8f9039afb4144a1f6fd8d2ca17a180786b69acc140d282b71a49"
   }
  }
 },
 "nbformat": 4,
 "nbformat_minor": 2
}
